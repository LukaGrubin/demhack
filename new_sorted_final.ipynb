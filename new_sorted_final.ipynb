{
 "cells": [
  {
   "cell_type": "code",
   "execution_count": 1,
   "id": "bed5c030",
   "metadata": {},
   "outputs": [],
   "source": [
    "import pandas as pd"
   ]
  },
  {
   "cell_type": "code",
   "execution_count": 2,
   "id": "6b437459",
   "metadata": {},
   "outputs": [],
   "source": [
    "df = pd.read_csv(\"H:\\\\sliv\\\\dataleak_messages.csv\", sep=';')"
   ]
  },
  {
   "cell_type": "code",
   "execution_count": 3,
   "id": "43f1d670",
   "metadata": {},
   "outputs": [],
   "source": [
    "true_indx = pd.read_csv(\"true_indexes_no_lists.csv\", sep=';')\n"
   ]
  },
  {
   "cell_type": "code",
   "execution_count": 4,
   "id": "5171da15",
   "metadata": {},
   "outputs": [],
   "source": [
    "# есть артефакты, ставим None, если id сообщения не является числом\n",
    "df.message_id = df.message_id.apply(lambda x: x if x.isdigit() else None)"
   ]
  },
  {
   "cell_type": "code",
   "execution_count": 5,
   "id": "368c561c",
   "metadata": {},
   "outputs": [],
   "source": [
    "#удаляем пустые ячейки\n",
    "df.dropna(inplace=True)"
   ]
  },
  {
   "cell_type": "code",
   "execution_count": 6,
   "id": "2011d34a",
   "metadata": {},
   "outputs": [],
   "source": [
    "#приводим id сообщения к численному типу \n",
    "df.message_id = df.message_id.astype('int')"
   ]
  },
  {
   "cell_type": "code",
   "execution_count": 7,
   "id": "f359e844",
   "metadata": {},
   "outputs": [],
   "source": [
    "# сортируем\n",
    "df_sorted = df.sort_values(by='message_id').reset_index(drop=True)"
   ]
  },
  {
   "cell_type": "code",
   "execution_count": 8,
   "id": "a44115f1",
   "metadata": {},
   "outputs": [],
   "source": [
    "true_indx.true_index = true_indx.true_index.astype('int')\n",
    "lst_ti = list(true_indx['true_index'])"
   ]
  },
  {
   "cell_type": "code",
   "execution_count": 9,
   "id": "05280da9",
   "metadata": {},
   "outputs": [],
   "source": [
    "df_sorted['ti'] = df_sorted.message_id.apply(lambda x: True if x in lst_ti else False)"
   ]
  },
  {
   "cell_type": "code",
   "execution_count": 10,
   "id": "d75bfe3d",
   "metadata": {},
   "outputs": [
    {
     "data": {
      "text/html": [
       "<div>\n",
       "<style scoped>\n",
       "    .dataframe tbody tr th:only-of-type {\n",
       "        vertical-align: middle;\n",
       "    }\n",
       "\n",
       "    .dataframe tbody tr th {\n",
       "        vertical-align: top;\n",
       "    }\n",
       "\n",
       "    .dataframe thead th {\n",
       "        text-align: right;\n",
       "    }\n",
       "</style>\n",
       "<table border=\"1\" class=\"dataframe\">\n",
       "  <thead>\n",
       "    <tr style=\"text-align: right;\">\n",
       "      <th></th>\n",
       "      <th>message_id</th>\n",
       "      <th>message_date</th>\n",
       "      <th>message_text</th>\n",
       "      <th>ti</th>\n",
       "    </tr>\n",
       "  </thead>\n",
       "  <tbody>\n",
       "    <tr>\n",
       "      <th>0</th>\n",
       "      <td>4</td>\n",
       "      <td>2017-11-19 07:53:26+00:00</td>\n",
       "      <td>Американская сеть розничной торговли одеждой F...</td>\n",
       "      <td>False</td>\n",
       "    </tr>\n",
       "    <tr>\n",
       "      <th>1</th>\n",
       "      <td>5</td>\n",
       "      <td>2017-11-19 11:11:03+00:00</td>\n",
       "      <td>Утекла база данных из 1.8 миллиарда сообщений,...</td>\n",
       "      <td>False</td>\n",
       "    </tr>\n",
       "    <tr>\n",
       "      <th>2</th>\n",
       "      <td>6</td>\n",
       "      <td>2017-11-19 12:23:09+00:00</td>\n",
       "      <td>Злоумышленники получили информацию с компьютер...</td>\n",
       "      <td>False</td>\n",
       "    </tr>\n",
       "    <tr>\n",
       "      <th>3</th>\n",
       "      <td>7</td>\n",
       "      <td>2017-11-19 12:45:26+00:00</td>\n",
       "      <td>Небольшой обзор крайне полезного и недорогого ...</td>\n",
       "      <td>False</td>\n",
       "    </tr>\n",
       "    <tr>\n",
       "      <th>4</th>\n",
       "      <td>8</td>\n",
       "      <td>2017-11-20 09:54:25+00:00</td>\n",
       "      <td>Добрый день. Сегодня мы принесли вам 2 утечки ...</td>\n",
       "      <td>False</td>\n",
       "    </tr>\n",
       "  </tbody>\n",
       "</table>\n",
       "</div>"
      ],
      "text/plain": [
       "   message_id               message_date  \\\n",
       "0           4  2017-11-19 07:53:26+00:00   \n",
       "1           5  2017-11-19 11:11:03+00:00   \n",
       "2           6  2017-11-19 12:23:09+00:00   \n",
       "3           7  2017-11-19 12:45:26+00:00   \n",
       "4           8  2017-11-20 09:54:25+00:00   \n",
       "\n",
       "                                        message_text     ti  \n",
       "0  Американская сеть розничной торговли одеждой F...  False  \n",
       "1  Утекла база данных из 1.8 миллиарда сообщений,...  False  \n",
       "2  Злоумышленники получили информацию с компьютер...  False  \n",
       "3  Небольшой обзор крайне полезного и недорогого ...  False  \n",
       "4  Добрый день. Сегодня мы принесли вам 2 утечки ...  False  "
      ]
     },
     "execution_count": 10,
     "metadata": {},
     "output_type": "execute_result"
    }
   ],
   "source": [
    "df_sorted.head()"
   ]
  },
  {
   "cell_type": "code",
   "execution_count": 11,
   "id": "5adb2bef",
   "metadata": {},
   "outputs": [],
   "source": [
    "df_sorted = df_sorted[df_sorted['ti']]"
   ]
  },
  {
   "cell_type": "code",
   "execution_count": 12,
   "id": "d1137315",
   "metadata": {},
   "outputs": [],
   "source": [
    "df_sorted.drop(columns=['ti'], axis=0, inplace=True)"
   ]
  },
  {
   "cell_type": "code",
   "execution_count": 13,
   "id": "d4c583a4",
   "metadata": {},
   "outputs": [],
   "source": [
    "#добавим развернутые сообщения\n",
    "fields = 'имя, адрес, телефон, дата и сумма заказа'\n",
    "new_columns = pd.DataFrame({'message_id':[9000, 9001, 9002, 9003, 9004, 9005, 9006, 9007, 9008, 9009, 9010,9011], \n",
    "                            'message_date': ['06.03.2023 15:36:26+00:00', '06.03.2023 15:36:26+00:00', '06.03.2023 15:36:26+00:00', \n",
    "                                             '24.04.2022 15:36:26+00:00', '24.04.2022 15:36:26+00:00', '24.04.2022 15:36:26+00:00', \n",
    "                                             '24.04.2022 15:36:26+00:00', '24.04.2022 15:36:26+00:00', '02.01.2022 15:36:26+00:00', \n",
    "                                             '02.01.2022 15:36:26+00:00', '02.01.2022 15:36:26+00:00', '02.01.2022 15:36:26+00:00'], \n",
    "                            \n",
    "                            'message_text' : ['Такси __willway.ru__ - 7,788 строк: ФИО, адрес эл. почты, телефон, хешированный пароль. Актуальность 07.03.2023.', \n",
    "                                             'Бургерная __farshburger.ru__/__profarsh.ru__ - 14,209 строк: имя, адрес эл. почты, телефон, __IP__-адрес, комментарий к заказу. Актуальность 07.03.2023.', \n",
    "                                             'Образовательный форум для поступающих в ВУЗы __propostuplenie.ru__ - 521,353 строки: имя/фамилия, адрес эл. почты, телефон, хешированный пароль. Актуальность 06.03.2023.', \n",
    "                                             '1️⃣ __buffet24.ru__ - доставка в Красноярске: 81,984 строки. Актуальность: 07.02.2022' + fields, \n",
    "                                             '2️⃣ __maxxi-cafe.ru__ - доставка в Курске: 61,574 строки. Актуальность: 24.04.2022\\r\\n\\r\\n' + fields, \n",
    "                                             '3️⃣ __roll46.ru__ - доставка в Курске: 2,047 строк. Актуальность: 15.04.2022\\r\\n\\r\\n' + fields, \n",
    "                                             '4️⃣ __tochkaedy46.ru__ - доставка в Курске: 575 строк. Актуальность: 23.04.2022' + fields, \n",
    "                                             '5️⃣ __r-sushi.ru__ - доставка в Санкт-Петербурге: 34,640 строк. Актуальность: 05.04.2022' + fields,\n",
    "                                             '1️⃣__ ____hgclub.ru__ - доставка из ресторанов __«Росинтер Ресторантс»__: 106,027 строк с данными заказов (адреса доставки, телефоны, имена, адреса эл. почты, стоимость заказов, номера бонусных карт «__Почётный Гость__»). Актуальность: 02.05.2022\\r\\n\\r\\n',\n",
    "                                             '2️⃣ __404035.ru__ - доставка в Альметьевске: 14,033 клиента (адреса доставки, телефоны, имена). Актуальность: 27.09.2021 (дамп создан 27.04.2022)\\r\\n\\r\\n',\n",
    "                                             '3️⃣ __whitebear-food.ru__ - доставка в Курске: 8,239  строк с данными заказов (адреса доставки, телефоны, имена, __IP__-адреса). Актуальность: 16.04.2022\\r\\n\\r\\n',\n",
    "                                             '4️⃣ __sushikatana.ru__ - доставка в Смоленске: 28,928 клиентов (адреса эл. почты, телефоны, имена). Актуальность: 02.01.2022']})\n"
   ]
  },
  {
   "cell_type": "code",
   "execution_count": 14,
   "id": "eb0bb20f",
   "metadata": {},
   "outputs": [
    {
     "data": {
      "text/plain": [
       "546"
      ]
     },
     "execution_count": 14,
     "metadata": {},
     "output_type": "execute_result"
    }
   ],
   "source": [
    "len(df_sorted) + len(new_columns)"
   ]
  },
  {
   "cell_type": "code",
   "execution_count": 15,
   "id": "0d8c072d",
   "metadata": {},
   "outputs": [],
   "source": [
    "df_sorted = pd.concat([df_sorted, new_columns]).reset_index(drop=True)"
   ]
  },
  {
   "cell_type": "code",
   "execution_count": 16,
   "id": "d24169e0",
   "metadata": {},
   "outputs": [],
   "source": [
    "df_sorted = df_sorted[~(df_sorted.message_id.isin([2916, 2600, 2583]))]\n"
   ]
  },
  {
   "cell_type": "code",
   "execution_count": 17,
   "id": "7cdd920c",
   "metadata": {},
   "outputs": [
    {
     "data": {
      "text/html": [
       "<div>\n",
       "<style scoped>\n",
       "    .dataframe tbody tr th:only-of-type {\n",
       "        vertical-align: middle;\n",
       "    }\n",
       "\n",
       "    .dataframe tbody tr th {\n",
       "        vertical-align: top;\n",
       "    }\n",
       "\n",
       "    .dataframe thead th {\n",
       "        text-align: right;\n",
       "    }\n",
       "</style>\n",
       "<table border=\"1\" class=\"dataframe\">\n",
       "  <thead>\n",
       "    <tr style=\"text-align: right;\">\n",
       "      <th></th>\n",
       "      <th>message_id</th>\n",
       "      <th>message_date</th>\n",
       "      <th>message_text</th>\n",
       "    </tr>\n",
       "  </thead>\n",
       "  <tbody>\n",
       "    <tr>\n",
       "      <th>0</th>\n",
       "      <td>66</td>\n",
       "      <td>2017-12-18 15:36:26+00:00</td>\n",
       "      <td>А вот вам свежайший случай из российской дейст...</td>\n",
       "    </tr>\n",
       "    <tr>\n",
       "      <th>1</th>\n",
       "      <td>91</td>\n",
       "      <td>2017-12-27 20:30:30+00:00</td>\n",
       "      <td>На форумах в Dark Web появилась в продаже база...</td>\n",
       "    </tr>\n",
       "    <tr>\n",
       "      <th>2</th>\n",
       "      <td>114</td>\n",
       "      <td>2018-01-11 15:14:58+00:00</td>\n",
       "      <td>Добрый вечер, коллеги.\\r\\n\\r\\nНаконец закончил...</td>\n",
       "    </tr>\n",
       "    <tr>\n",
       "      <th>3</th>\n",
       "      <td>138</td>\n",
       "      <td>2018-01-23 14:39:47+00:00</td>\n",
       "      <td>А вот интересная история с поиском уязвимостей...</td>\n",
       "    </tr>\n",
       "    <tr>\n",
       "      <th>4</th>\n",
       "      <td>149</td>\n",
       "      <td>2018-01-29 11:34:52+00:00</td>\n",
       "      <td>Утечка информации о дипломах и сопутствующих и...</td>\n",
       "    </tr>\n",
       "  </tbody>\n",
       "</table>\n",
       "</div>"
      ],
      "text/plain": [
       "   message_id               message_date  \\\n",
       "0          66  2017-12-18 15:36:26+00:00   \n",
       "1          91  2017-12-27 20:30:30+00:00   \n",
       "2         114  2018-01-11 15:14:58+00:00   \n",
       "3         138  2018-01-23 14:39:47+00:00   \n",
       "4         149  2018-01-29 11:34:52+00:00   \n",
       "\n",
       "                                        message_text  \n",
       "0  А вот вам свежайший случай из российской дейст...  \n",
       "1  На форумах в Dark Web появилась в продаже база...  \n",
       "2  Добрый вечер, коллеги.\\r\\n\\r\\nНаконец закончил...  \n",
       "3  А вот интересная история с поиском уязвимостей...  \n",
       "4  Утечка информации о дипломах и сопутствующих и...  "
      ]
     },
     "execution_count": 17,
     "metadata": {},
     "output_type": "execute_result"
    }
   ],
   "source": [
    "df_sorted.head()"
   ]
  },
  {
   "cell_type": "markdown",
   "id": "3c4cb065",
   "metadata": {},
   "source": [
    "#### Добавим поля, по которым будем смотреть аналитику"
   ]
  },
  {
   "cell_type": "code",
   "execution_count": 18,
   "id": "9d1eefee",
   "metadata": {},
   "outputs": [],
   "source": [
    "# метка для сообщений в которых содержатся слова \"слив, база данных\" и т.д. \n",
    "#- это точно то, что нам нужно, но не у всех нужных сообщений есть такая метка \n",
    "\n",
    "#database_pattern = re.compile(r'бд|дамп.*|баз[аыу]|базой|табл.*|архив.*|sql.*', re.IGNORECASE)\n",
    "#leak_pattern = re.compile(r'утечк.*|слив.*', re.IGNORECASE)\n",
    "#\n",
    "#df_sorted['database'] = df_sorted.message_text\\\n",
    "#            .apply(lambda x: True if re.search(database_pattern, x) else False)\n",
    "#df_sorted['leak'] = df_sorted.message_text\\\n",
    "#            .apply(lambda x: True if re.search(leak_pattern, x) else False)\n",
    "#"
   ]
  },
  {
   "cell_type": "code",
   "execution_count": 19,
   "id": "8caf3f21",
   "metadata": {},
   "outputs": [],
   "source": [
    "import re\n",
    "\n",
    "email_pattern = re.compile(r'почт.*|.*mail.*', re.IGNORECASE)\n",
    "password_pattern = re.compile(r'парол.*', re.IGNORECASE)\n",
    "name_pattern = re.compile(r'имя|имен|фамил.*|фио|ф\\.и\\.о.*', re.IGNORECASE)\n",
    "phone_pattern = re.compile(r'телеф.*', re.IGNORECASE)\n",
    "bank_card_pattern = re.compile(r'(банк.*|кредит.*|платеж.*) карт.*', re.IGNORECASE)\n",
    "birthday_pattern = re.compile(r'дат.* рожд.*', re.IGNORECASE)\n",
    "address_pattern = re.compile(r'(\\b адрес[ами]* (?!\\s*эл\\.)\\b)|адрес[ами,]*', re.IGNORECASE)\n",
    "amount_pattern = re.compile(r'сумм.*', re.IGNORECASE)\n",
    "ip_pattern = re.compile(r'ip', re.IGNORECASE)\n",
    "gps_pattern = re.compile(r'gps.*|геолок.*|координат.*', re.IGNORECASE)\n",
    "\n",
    "df_sorted['phone'] = df_sorted.message_text\\\n",
    "            .apply(lambda x: True if re.search(phone_pattern, x) else False)\n",
    "\n",
    "df_sorted['email'] = df_sorted.message_text\\\n",
    "            .apply(lambda x: True if re.search(email_pattern, x) else False)\n",
    "\n",
    "df_sorted['password'] = df_sorted.message_text\\\n",
    "            .apply(lambda x: True if re.search(password_pattern, x) else False)\n",
    "\n",
    "df_sorted['name'] = df_sorted.message_text\\\n",
    "            .apply(lambda x: True if re.search(name_pattern, x) else False)\n",
    "\n",
    "df_sorted['bank_card'] = df_sorted.message_text\\\n",
    "            .apply(lambda x: True if re.search(bank_card_pattern, x) else False)\n",
    "\n",
    "df_sorted['birthday'] = df_sorted.message_text\\\n",
    "            .apply(lambda x: True if re.search(birthday_pattern, x) else False)\n",
    "\n",
    "df_sorted['address'] = df_sorted.message_text\\\n",
    "            .apply(lambda x: True if re.search(address_pattern, x) else False)\n",
    "\n",
    "df_sorted['ip'] = df_sorted.message_text\\\n",
    "            .apply(lambda x: True if re.search(ip_pattern, x) else False)\n",
    "\n",
    "df_sorted['amount'] = df_sorted.message_text\\\n",
    "            .apply(lambda x: True if re.search(amount_pattern, x) else False)\n",
    "\n",
    "df_sorted['location'] = df_sorted.message_text\\\n",
    "            .apply(lambda x: True if re.search(gps_pattern, x) else False)"
   ]
  },
  {
   "cell_type": "code",
   "execution_count": 20,
   "id": "39385dcc",
   "metadata": {},
   "outputs": [
    {
     "data": {
      "text/html": [
       "<div>\n",
       "<style scoped>\n",
       "    .dataframe tbody tr th:only-of-type {\n",
       "        vertical-align: middle;\n",
       "    }\n",
       "\n",
       "    .dataframe tbody tr th {\n",
       "        vertical-align: top;\n",
       "    }\n",
       "\n",
       "    .dataframe thead th {\n",
       "        text-align: right;\n",
       "    }\n",
       "</style>\n",
       "<table border=\"1\" class=\"dataframe\">\n",
       "  <thead>\n",
       "    <tr style=\"text-align: right;\">\n",
       "      <th></th>\n",
       "      <th>message_id</th>\n",
       "      <th>message_date</th>\n",
       "      <th>message_text</th>\n",
       "      <th>phone</th>\n",
       "      <th>email</th>\n",
       "      <th>password</th>\n",
       "      <th>name</th>\n",
       "      <th>bank_card</th>\n",
       "      <th>birthday</th>\n",
       "      <th>address</th>\n",
       "      <th>ip</th>\n",
       "      <th>amount</th>\n",
       "      <th>location</th>\n",
       "    </tr>\n",
       "  </thead>\n",
       "  <tbody>\n",
       "    <tr>\n",
       "      <th>0</th>\n",
       "      <td>66</td>\n",
       "      <td>2017-12-18 15:36:26+00:00</td>\n",
       "      <td>А вот вам свежайший случай из российской дейст...</td>\n",
       "      <td>False</td>\n",
       "      <td>False</td>\n",
       "      <td>False</td>\n",
       "      <td>False</td>\n",
       "      <td>False</td>\n",
       "      <td>False</td>\n",
       "      <td>False</td>\n",
       "      <td>False</td>\n",
       "      <td>False</td>\n",
       "      <td>False</td>\n",
       "    </tr>\n",
       "    <tr>\n",
       "      <th>1</th>\n",
       "      <td>91</td>\n",
       "      <td>2017-12-27 20:30:30+00:00</td>\n",
       "      <td>На форумах в Dark Web появилась в продаже база...</td>\n",
       "      <td>True</td>\n",
       "      <td>True</td>\n",
       "      <td>False</td>\n",
       "      <td>True</td>\n",
       "      <td>False</td>\n",
       "      <td>False</td>\n",
       "      <td>True</td>\n",
       "      <td>False</td>\n",
       "      <td>False</td>\n",
       "      <td>False</td>\n",
       "    </tr>\n",
       "    <tr>\n",
       "      <th>2</th>\n",
       "      <td>114</td>\n",
       "      <td>2018-01-11 15:14:58+00:00</td>\n",
       "      <td>Добрый вечер, коллеги.\\r\\n\\r\\nНаконец закончил...</td>\n",
       "      <td>False</td>\n",
       "      <td>False</td>\n",
       "      <td>False</td>\n",
       "      <td>False</td>\n",
       "      <td>False</td>\n",
       "      <td>False</td>\n",
       "      <td>False</td>\n",
       "      <td>False</td>\n",
       "      <td>False</td>\n",
       "      <td>False</td>\n",
       "    </tr>\n",
       "    <tr>\n",
       "      <th>3</th>\n",
       "      <td>138</td>\n",
       "      <td>2018-01-23 14:39:47+00:00</td>\n",
       "      <td>А вот интересная история с поиском уязвимостей...</td>\n",
       "      <td>False</td>\n",
       "      <td>False</td>\n",
       "      <td>False</td>\n",
       "      <td>False</td>\n",
       "      <td>False</td>\n",
       "      <td>False</td>\n",
       "      <td>False</td>\n",
       "      <td>False</td>\n",
       "      <td>False</td>\n",
       "      <td>False</td>\n",
       "    </tr>\n",
       "    <tr>\n",
       "      <th>4</th>\n",
       "      <td>149</td>\n",
       "      <td>2018-01-29 11:34:52+00:00</td>\n",
       "      <td>Утечка информации о дипломах и сопутствующих и...</td>\n",
       "      <td>True</td>\n",
       "      <td>True</td>\n",
       "      <td>True</td>\n",
       "      <td>False</td>\n",
       "      <td>False</td>\n",
       "      <td>True</td>\n",
       "      <td>False</td>\n",
       "      <td>False</td>\n",
       "      <td>False</td>\n",
       "      <td>False</td>\n",
       "    </tr>\n",
       "  </tbody>\n",
       "</table>\n",
       "</div>"
      ],
      "text/plain": [
       "   message_id               message_date  \\\n",
       "0          66  2017-12-18 15:36:26+00:00   \n",
       "1          91  2017-12-27 20:30:30+00:00   \n",
       "2         114  2018-01-11 15:14:58+00:00   \n",
       "3         138  2018-01-23 14:39:47+00:00   \n",
       "4         149  2018-01-29 11:34:52+00:00   \n",
       "\n",
       "                                        message_text  phone  email  password  \\\n",
       "0  А вот вам свежайший случай из российской дейст...  False  False     False   \n",
       "1  На форумах в Dark Web появилась в продаже база...   True   True     False   \n",
       "2  Добрый вечер, коллеги.\\r\\n\\r\\nНаконец закончил...  False  False     False   \n",
       "3  А вот интересная история с поиском уязвимостей...  False  False     False   \n",
       "4  Утечка информации о дипломах и сопутствующих и...   True   True      True   \n",
       "\n",
       "    name  bank_card  birthday  address     ip  amount  location  \n",
       "0  False      False     False    False  False   False     False  \n",
       "1   True      False     False     True  False   False     False  \n",
       "2  False      False     False    False  False   False     False  \n",
       "3  False      False     False    False  False   False     False  \n",
       "4  False      False      True    False  False   False     False  "
      ]
     },
     "execution_count": 20,
     "metadata": {},
     "output_type": "execute_result"
    }
   ],
   "source": [
    "df_sorted.head()"
   ]
  },
  {
   "cell_type": "markdown",
   "id": "e0397f55",
   "metadata": {},
   "source": [
    "##### добавим уникальные поля (исчесляемые)"
   ]
  },
  {
   "cell_type": "code",
   "execution_count": 21,
   "id": "fa590221",
   "metadata": {},
   "outputs": [],
   "source": [
    "df_sorted = df_sorted.replace({' тыс.': '000', ' млн.': '000000', ' 000': '000'}, regex=True)"
   ]
  },
  {
   "cell_type": "code",
   "execution_count": 22,
   "id": "ec421149",
   "metadata": {},
   "outputs": [],
   "source": [
    "# добавляем поля с размером - как занимаемый размер на диске (гб, мб, кб), так и длину дампа\n",
    "size_dump_pattern = re.compile(r'(\\d+([, ]\\d+)* (гб|мб|кб|[а-я]*байт[ов]*))', re.IGNORECASE)\n",
    "\n",
    "# нужно добавить поиск строк по сокращениям (10 тыс., 1 млн.)\n",
    "len_dump_pattern = re.compile(r'([1-9]\\d*(,\\d+)* (?=строк.*|запис.*|пользоват.*|телефон.*|договор.*|аккаунт.*))', re.IGNORECASE)\n",
    "\n",
    "# пока вытаскиваю только первое вхождение цифры с размером - обычно сначала указывают общий размер,\n",
    "# потом по категориям сортируют (всего x строк, из них y строк с паролем)\n",
    "\n",
    "df_sorted['dump_size'] = df_sorted.message_text\\\n",
    "            .apply(lambda x: None if re.findall(size_dump_pattern, x) == [] \n",
    "                   else re.findall(size_dump_pattern, x)[0][0])\n",
    "\n",
    "df_sorted['dump_len'] = df_sorted.message_text\\\n",
    "            .apply(lambda x: None if re.findall(len_dump_pattern, x) == [] \n",
    "                   else re.findall(len_dump_pattern, x)[0][0])\n",
    "\n",
    "df_sorted['dump_len'] = df_sorted['dump_len'].replace({'20\\d{2} ':None}, regex=True)"
   ]
  },
  {
   "cell_type": "code",
   "execution_count": 23,
   "id": "d81d7586",
   "metadata": {},
   "outputs": [],
   "source": [
    "rus_data_pattern = re.compile(r'([1-9]\\d*(,\\d+)* (?=строк.*|запис.*|пользоват.*|телефон.*|договор.*|аккаунт.*|данных)[а-я ]*росс.*)' )\n",
    "\n",
    "df_sorted['rus_data'] = df_sorted.message_text\\\n",
    "            .apply(lambda x: None if re.findall(rus_data_pattern, x) == [] \n",
    "                   else re.findall(rus_data_pattern, x)[0][0])\n",
    "\n",
    "df_sorted['rus_data'] = df_sorted['rus_data'].apply(lambda x: None if x == None \n",
    "                   else re.findall(len_dump_pattern, x)[0][0])\n",
    "\n",
    "df_sorted['dump_len'] = df_sorted['dump_len'].where(df_sorted['rus_data'].isna(), df_sorted['rus_data'])\n",
    "\n",
    "df_sorted.drop(columns=['rus_data'], axis=0, inplace=True)"
   ]
  },
  {
   "cell_type": "code",
   "execution_count": 24,
   "id": "4882918d",
   "metadata": {},
   "outputs": [
    {
     "data": {
      "text/html": [
       "<div>\n",
       "<style scoped>\n",
       "    .dataframe tbody tr th:only-of-type {\n",
       "        vertical-align: middle;\n",
       "    }\n",
       "\n",
       "    .dataframe tbody tr th {\n",
       "        vertical-align: top;\n",
       "    }\n",
       "\n",
       "    .dataframe thead th {\n",
       "        text-align: right;\n",
       "    }\n",
       "</style>\n",
       "<table border=\"1\" class=\"dataframe\">\n",
       "  <thead>\n",
       "    <tr style=\"text-align: right;\">\n",
       "      <th></th>\n",
       "      <th>message_id</th>\n",
       "      <th>message_date</th>\n",
       "      <th>message_text</th>\n",
       "      <th>phone</th>\n",
       "      <th>email</th>\n",
       "      <th>password</th>\n",
       "      <th>name</th>\n",
       "      <th>bank_card</th>\n",
       "      <th>birthday</th>\n",
       "      <th>address</th>\n",
       "      <th>ip</th>\n",
       "      <th>amount</th>\n",
       "      <th>location</th>\n",
       "      <th>dump_size</th>\n",
       "      <th>dump_len</th>\n",
       "    </tr>\n",
       "  </thead>\n",
       "  <tbody>\n",
       "    <tr>\n",
       "      <th>0</th>\n",
       "      <td>66</td>\n",
       "      <td>2017-12-18 15:36:26+00:00</td>\n",
       "      <td>А вот вам свежайший случай из российской дейст...</td>\n",
       "      <td>False</td>\n",
       "      <td>False</td>\n",
       "      <td>False</td>\n",
       "      <td>False</td>\n",
       "      <td>False</td>\n",
       "      <td>False</td>\n",
       "      <td>False</td>\n",
       "      <td>False</td>\n",
       "      <td>False</td>\n",
       "      <td>False</td>\n",
       "      <td>None</td>\n",
       "      <td>36763</td>\n",
       "    </tr>\n",
       "    <tr>\n",
       "      <th>1</th>\n",
       "      <td>91</td>\n",
       "      <td>2017-12-27 20:30:30+00:00</td>\n",
       "      <td>На форумах в Dark Web появилась в продаже база...</td>\n",
       "      <td>True</td>\n",
       "      <td>True</td>\n",
       "      <td>False</td>\n",
       "      <td>True</td>\n",
       "      <td>False</td>\n",
       "      <td>False</td>\n",
       "      <td>True</td>\n",
       "      <td>False</td>\n",
       "      <td>False</td>\n",
       "      <td>False</td>\n",
       "      <td>2 мегабайт</td>\n",
       "      <td>None</td>\n",
       "    </tr>\n",
       "    <tr>\n",
       "      <th>2</th>\n",
       "      <td>114</td>\n",
       "      <td>2018-01-11 15:14:58+00:00</td>\n",
       "      <td>Добрый вечер, коллеги.\\r\\n\\r\\nНаконец закончил...</td>\n",
       "      <td>False</td>\n",
       "      <td>False</td>\n",
       "      <td>False</td>\n",
       "      <td>False</td>\n",
       "      <td>False</td>\n",
       "      <td>False</td>\n",
       "      <td>False</td>\n",
       "      <td>False</td>\n",
       "      <td>False</td>\n",
       "      <td>False</td>\n",
       "      <td>None</td>\n",
       "      <td>None</td>\n",
       "    </tr>\n",
       "    <tr>\n",
       "      <th>3</th>\n",
       "      <td>138</td>\n",
       "      <td>2018-01-23 14:39:47+00:00</td>\n",
       "      <td>А вот интересная история с поиском уязвимостей...</td>\n",
       "      <td>False</td>\n",
       "      <td>False</td>\n",
       "      <td>False</td>\n",
       "      <td>False</td>\n",
       "      <td>False</td>\n",
       "      <td>False</td>\n",
       "      <td>False</td>\n",
       "      <td>False</td>\n",
       "      <td>False</td>\n",
       "      <td>False</td>\n",
       "      <td>None</td>\n",
       "      <td>None</td>\n",
       "    </tr>\n",
       "    <tr>\n",
       "      <th>4</th>\n",
       "      <td>149</td>\n",
       "      <td>2018-01-29 11:34:52+00:00</td>\n",
       "      <td>Утечка информации о дипломах и сопутствующих и...</td>\n",
       "      <td>True</td>\n",
       "      <td>True</td>\n",
       "      <td>True</td>\n",
       "      <td>False</td>\n",
       "      <td>False</td>\n",
       "      <td>True</td>\n",
       "      <td>False</td>\n",
       "      <td>False</td>\n",
       "      <td>False</td>\n",
       "      <td>False</td>\n",
       "      <td>5 Гб</td>\n",
       "      <td>14000000</td>\n",
       "    </tr>\n",
       "  </tbody>\n",
       "</table>\n",
       "</div>"
      ],
      "text/plain": [
       "   message_id               message_date  \\\n",
       "0          66  2017-12-18 15:36:26+00:00   \n",
       "1          91  2017-12-27 20:30:30+00:00   \n",
       "2         114  2018-01-11 15:14:58+00:00   \n",
       "3         138  2018-01-23 14:39:47+00:00   \n",
       "4         149  2018-01-29 11:34:52+00:00   \n",
       "\n",
       "                                        message_text  phone  email  password  \\\n",
       "0  А вот вам свежайший случай из российской дейст...  False  False     False   \n",
       "1  На форумах в Dark Web появилась в продаже база...   True   True     False   \n",
       "2  Добрый вечер, коллеги.\\r\\n\\r\\nНаконец закончил...  False  False     False   \n",
       "3  А вот интересная история с поиском уязвимостей...  False  False     False   \n",
       "4  Утечка информации о дипломах и сопутствующих и...   True   True      True   \n",
       "\n",
       "    name  bank_card  birthday  address     ip  amount  location   dump_size  \\\n",
       "0  False      False     False    False  False   False     False        None   \n",
       "1   True      False     False     True  False   False     False  2 мегабайт   \n",
       "2  False      False     False    False  False   False     False        None   \n",
       "3  False      False     False    False  False   False     False        None   \n",
       "4  False      False      True    False  False   False     False        5 Гб   \n",
       "\n",
       "    dump_len  \n",
       "0     36763   \n",
       "1       None  \n",
       "2       None  \n",
       "3       None  \n",
       "4  14000000   "
      ]
     },
     "execution_count": 24,
     "metadata": {},
     "output_type": "execute_result"
    }
   ],
   "source": [
    "df_sorted.head()"
   ]
  },
  {
   "cell_type": "code",
   "execution_count": 25,
   "id": "24b675f7",
   "metadata": {},
   "outputs": [
    {
     "data": {
      "text/plain": [
       "['Не так давно в продаже на теневом маркетплейсе появилась база из 51000 телефонных номеров клиентов одного из крупнейших российских брокеров. \\r\\n\\r\\nВ базе содержатся только номера телефонов, т.к. она получена путем перебора (брутфорса) через страницу входа в личный кабинет на сайте брокера.\\r\\n\\r\\nОднако, обладая другими базами данных, можно легко обогатить данную базу именами и прочей личной информацией, сделав ее пригодной для использования мошенниками. 😱']"
      ]
     },
     "execution_count": 25,
     "metadata": {},
     "output_type": "execute_result"
    }
   ],
   "source": [
    "df_sorted[df_sorted.message_id == 2438].message_text.to_list()"
   ]
  },
  {
   "cell_type": "code",
   "execution_count": 26,
   "id": "5c57d102",
   "metadata": {},
   "outputs": [],
   "source": [
    "# приведем строки в числовой вид\n",
    "def len_to_int(string):\n",
    "    \n",
    "    if string is None:\n",
    "        return string\n",
    "\n",
    "    \n",
    "    if ',' in string:\n",
    "        string = string.split(',')\n",
    "        string = ''.join(string)\n",
    "        string = int(string)\n",
    "\n",
    "\n",
    "        \n",
    "    if  not isinstance(string, int) and string.isdigit() :\n",
    "        string = int(string)\n",
    "        \n",
    "    return string\n",
    "\n",
    "df_sorted.dump_len = df_sorted.dump_len.apply(lambda x: len_to_int(x))"
   ]
  },
  {
   "cell_type": "code",
   "execution_count": 27,
   "id": "dcd5bd80",
   "metadata": {},
   "outputs": [],
   "source": [
    "# приведем размер архивов в гб \n",
    "def size_to_mb(string):\n",
    "    \n",
    "    def num_to_float(n):\n",
    "        if ',' in n:\n",
    "            n = n.split(',')\n",
    "            n = '.'.join(n)\n",
    "        return float(n)\n",
    "\n",
    "    \n",
    "    \n",
    "    if string is None:\n",
    "        return string\n",
    "    \n",
    "    if 'гб' in string.lower() or 'гигабайт' in string.lower():\n",
    "        string = string.split(' ')\n",
    "        string = string[0]\n",
    "        string = num_to_float(string) * 1024\n",
    "       \n",
    "    elif 'мб' in string.lower() or 'мегабайт' in string.lower():\n",
    "        string = string.split(' ')\n",
    "        string = string[0]\n",
    "        string = num_to_float(string)\n",
    "\n",
    "    elif 'кб' in string.lower() or 'килобайт' in string.lower():\n",
    "        string = string.split(' ')\n",
    "        string = string[0]\n",
    "        string = num_to_float(string)  / 1024\n",
    "\n",
    "    if isinstance(string, float):\n",
    "        return round(string, 3)\n",
    "#\n",
    "df_sorted.dump_size = df_sorted.dump_size.apply(lambda x: size_to_mb(x))"
   ]
  },
  {
   "cell_type": "markdown",
   "id": "db688dbd",
   "metadata": {},
   "source": [
    "#### Добавим названия организаций у кого слили данные "
   ]
  },
  {
   "cell_type": "code",
   "execution_count": 28,
   "id": "b2dda878",
   "metadata": {},
   "outputs": [],
   "source": [
    "company_pattern = re.compile(r'((?<=«)[А-ЯA-Z][А-Яа-яA-Za-z]*(?=»))')\n",
    "website_name_pattern = re.compile(r'((?<=\\_{2})[A-z]+\\.[a-z]{2,})')\n",
    "\n",
    "df_sorted['company_name'] = df_sorted.message_text\\\n",
    "            .apply(lambda x: None if re.findall(company_pattern, x) == [] else re.findall(company_pattern, x))\n",
    "\n",
    "df_sorted['website_name'] = df_sorted.message_text\\\n",
    "            .apply(lambda x: None if re.findall(website_name_pattern, x) == [] else re.findall(website_name_pattern, x))"
   ]
  },
  {
   "cell_type": "code",
   "execution_count": 29,
   "id": "fc2ae211",
   "metadata": {},
   "outputs": [
    {
     "data": {
      "text/html": [
       "<div>\n",
       "<style scoped>\n",
       "    .dataframe tbody tr th:only-of-type {\n",
       "        vertical-align: middle;\n",
       "    }\n",
       "\n",
       "    .dataframe tbody tr th {\n",
       "        vertical-align: top;\n",
       "    }\n",
       "\n",
       "    .dataframe thead th {\n",
       "        text-align: right;\n",
       "    }\n",
       "</style>\n",
       "<table border=\"1\" class=\"dataframe\">\n",
       "  <thead>\n",
       "    <tr style=\"text-align: right;\">\n",
       "      <th></th>\n",
       "      <th>message_id</th>\n",
       "      <th>message_date</th>\n",
       "      <th>message_text</th>\n",
       "      <th>phone</th>\n",
       "      <th>email</th>\n",
       "      <th>password</th>\n",
       "      <th>name</th>\n",
       "      <th>bank_card</th>\n",
       "      <th>birthday</th>\n",
       "      <th>address</th>\n",
       "      <th>ip</th>\n",
       "      <th>amount</th>\n",
       "      <th>location</th>\n",
       "      <th>dump_size</th>\n",
       "      <th>dump_len</th>\n",
       "      <th>company_name</th>\n",
       "      <th>website_name</th>\n",
       "    </tr>\n",
       "  </thead>\n",
       "  <tbody>\n",
       "    <tr>\n",
       "      <th>0</th>\n",
       "      <td>66</td>\n",
       "      <td>2017-12-18 15:36:26+00:00</td>\n",
       "      <td>А вот вам свежайший случай из российской дейст...</td>\n",
       "      <td>False</td>\n",
       "      <td>False</td>\n",
       "      <td>False</td>\n",
       "      <td>False</td>\n",
       "      <td>False</td>\n",
       "      <td>False</td>\n",
       "      <td>False</td>\n",
       "      <td>False</td>\n",
       "      <td>False</td>\n",
       "      <td>False</td>\n",
       "      <td>NaN</td>\n",
       "      <td>36763</td>\n",
       "      <td>None</td>\n",
       "      <td>None</td>\n",
       "    </tr>\n",
       "    <tr>\n",
       "      <th>1</th>\n",
       "      <td>91</td>\n",
       "      <td>2017-12-27 20:30:30+00:00</td>\n",
       "      <td>На форумах в Dark Web появилась в продаже база...</td>\n",
       "      <td>True</td>\n",
       "      <td>True</td>\n",
       "      <td>False</td>\n",
       "      <td>True</td>\n",
       "      <td>False</td>\n",
       "      <td>False</td>\n",
       "      <td>True</td>\n",
       "      <td>False</td>\n",
       "      <td>False</td>\n",
       "      <td>False</td>\n",
       "      <td>2.0</td>\n",
       "      <td>None</td>\n",
       "      <td>None</td>\n",
       "      <td>None</td>\n",
       "    </tr>\n",
       "    <tr>\n",
       "      <th>2</th>\n",
       "      <td>114</td>\n",
       "      <td>2018-01-11 15:14:58+00:00</td>\n",
       "      <td>Добрый вечер, коллеги.\\r\\n\\r\\nНаконец закончил...</td>\n",
       "      <td>False</td>\n",
       "      <td>False</td>\n",
       "      <td>False</td>\n",
       "      <td>False</td>\n",
       "      <td>False</td>\n",
       "      <td>False</td>\n",
       "      <td>False</td>\n",
       "      <td>False</td>\n",
       "      <td>False</td>\n",
       "      <td>False</td>\n",
       "      <td>NaN</td>\n",
       "      <td>None</td>\n",
       "      <td>None</td>\n",
       "      <td>None</td>\n",
       "    </tr>\n",
       "    <tr>\n",
       "      <th>3</th>\n",
       "      <td>138</td>\n",
       "      <td>2018-01-23 14:39:47+00:00</td>\n",
       "      <td>А вот интересная история с поиском уязвимостей...</td>\n",
       "      <td>False</td>\n",
       "      <td>False</td>\n",
       "      <td>False</td>\n",
       "      <td>False</td>\n",
       "      <td>False</td>\n",
       "      <td>False</td>\n",
       "      <td>False</td>\n",
       "      <td>False</td>\n",
       "      <td>False</td>\n",
       "      <td>False</td>\n",
       "      <td>NaN</td>\n",
       "      <td>None</td>\n",
       "      <td>None</td>\n",
       "      <td>None</td>\n",
       "    </tr>\n",
       "    <tr>\n",
       "      <th>4</th>\n",
       "      <td>149</td>\n",
       "      <td>2018-01-29 11:34:52+00:00</td>\n",
       "      <td>Утечка информации о дипломах и сопутствующих и...</td>\n",
       "      <td>True</td>\n",
       "      <td>True</td>\n",
       "      <td>True</td>\n",
       "      <td>False</td>\n",
       "      <td>False</td>\n",
       "      <td>True</td>\n",
       "      <td>False</td>\n",
       "      <td>False</td>\n",
       "      <td>False</td>\n",
       "      <td>False</td>\n",
       "      <td>5120.0</td>\n",
       "      <td>14000000</td>\n",
       "      <td>None</td>\n",
       "      <td>None</td>\n",
       "    </tr>\n",
       "  </tbody>\n",
       "</table>\n",
       "</div>"
      ],
      "text/plain": [
       "   message_id               message_date  \\\n",
       "0          66  2017-12-18 15:36:26+00:00   \n",
       "1          91  2017-12-27 20:30:30+00:00   \n",
       "2         114  2018-01-11 15:14:58+00:00   \n",
       "3         138  2018-01-23 14:39:47+00:00   \n",
       "4         149  2018-01-29 11:34:52+00:00   \n",
       "\n",
       "                                        message_text  phone  email  password  \\\n",
       "0  А вот вам свежайший случай из российской дейст...  False  False     False   \n",
       "1  На форумах в Dark Web появилась в продаже база...   True   True     False   \n",
       "2  Добрый вечер, коллеги.\\r\\n\\r\\nНаконец закончил...  False  False     False   \n",
       "3  А вот интересная история с поиском уязвимостей...  False  False     False   \n",
       "4  Утечка информации о дипломах и сопутствующих и...   True   True      True   \n",
       "\n",
       "    name  bank_card  birthday  address     ip  amount  location  dump_size  \\\n",
       "0  False      False     False    False  False   False     False        NaN   \n",
       "1   True      False     False     True  False   False     False        2.0   \n",
       "2  False      False     False    False  False   False     False        NaN   \n",
       "3  False      False     False    False  False   False     False        NaN   \n",
       "4  False      False      True    False  False   False     False     5120.0   \n",
       "\n",
       "    dump_len company_name website_name  \n",
       "0     36763          None         None  \n",
       "1       None         None         None  \n",
       "2       None         None         None  \n",
       "3       None         None         None  \n",
       "4  14000000          None         None  "
      ]
     },
     "execution_count": 29,
     "metadata": {},
     "output_type": "execute_result"
    }
   ],
   "source": [
    "df_sorted.head()"
   ]
  },
  {
   "cell_type": "markdown",
   "id": "d6dfd360",
   "metadata": {},
   "source": [
    "##### тащим дату"
   ]
  },
  {
   "cell_type": "code",
   "execution_count": 30,
   "id": "68482b39",
   "metadata": {},
   "outputs": [],
   "source": [
    "#  приведем дату публикации сообщения к нужному типу\n",
    "df_sorted.message_date = pd.to_datetime(df_sorted.message_date).dt.date"
   ]
  },
  {
   "cell_type": "code",
   "execution_count": 31,
   "id": "6ebfa546",
   "metadata": {},
   "outputs": [
    {
     "data": {
      "text/html": [
       "<div>\n",
       "<style scoped>\n",
       "    .dataframe tbody tr th:only-of-type {\n",
       "        vertical-align: middle;\n",
       "    }\n",
       "\n",
       "    .dataframe tbody tr th {\n",
       "        vertical-align: top;\n",
       "    }\n",
       "\n",
       "    .dataframe thead th {\n",
       "        text-align: right;\n",
       "    }\n",
       "</style>\n",
       "<table border=\"1\" class=\"dataframe\">\n",
       "  <thead>\n",
       "    <tr style=\"text-align: right;\">\n",
       "      <th></th>\n",
       "      <th>message_id</th>\n",
       "      <th>message_date</th>\n",
       "      <th>message_text</th>\n",
       "      <th>phone</th>\n",
       "      <th>email</th>\n",
       "      <th>password</th>\n",
       "      <th>name</th>\n",
       "      <th>bank_card</th>\n",
       "      <th>birthday</th>\n",
       "      <th>address</th>\n",
       "      <th>ip</th>\n",
       "      <th>amount</th>\n",
       "      <th>location</th>\n",
       "      <th>dump_size</th>\n",
       "      <th>dump_len</th>\n",
       "      <th>company_name</th>\n",
       "      <th>website_name</th>\n",
       "    </tr>\n",
       "  </thead>\n",
       "  <tbody>\n",
       "    <tr>\n",
       "      <th>0</th>\n",
       "      <td>66</td>\n",
       "      <td>2017-12-18</td>\n",
       "      <td>А вот вам свежайший случай из российской дейст...</td>\n",
       "      <td>False</td>\n",
       "      <td>False</td>\n",
       "      <td>False</td>\n",
       "      <td>False</td>\n",
       "      <td>False</td>\n",
       "      <td>False</td>\n",
       "      <td>False</td>\n",
       "      <td>False</td>\n",
       "      <td>False</td>\n",
       "      <td>False</td>\n",
       "      <td>NaN</td>\n",
       "      <td>36763</td>\n",
       "      <td>None</td>\n",
       "      <td>None</td>\n",
       "    </tr>\n",
       "    <tr>\n",
       "      <th>1</th>\n",
       "      <td>91</td>\n",
       "      <td>2017-12-27</td>\n",
       "      <td>На форумах в Dark Web появилась в продаже база...</td>\n",
       "      <td>True</td>\n",
       "      <td>True</td>\n",
       "      <td>False</td>\n",
       "      <td>True</td>\n",
       "      <td>False</td>\n",
       "      <td>False</td>\n",
       "      <td>True</td>\n",
       "      <td>False</td>\n",
       "      <td>False</td>\n",
       "      <td>False</td>\n",
       "      <td>2.0</td>\n",
       "      <td>None</td>\n",
       "      <td>None</td>\n",
       "      <td>None</td>\n",
       "    </tr>\n",
       "    <tr>\n",
       "      <th>2</th>\n",
       "      <td>114</td>\n",
       "      <td>2018-01-11</td>\n",
       "      <td>Добрый вечер, коллеги.\\r\\n\\r\\nНаконец закончил...</td>\n",
       "      <td>False</td>\n",
       "      <td>False</td>\n",
       "      <td>False</td>\n",
       "      <td>False</td>\n",
       "      <td>False</td>\n",
       "      <td>False</td>\n",
       "      <td>False</td>\n",
       "      <td>False</td>\n",
       "      <td>False</td>\n",
       "      <td>False</td>\n",
       "      <td>NaN</td>\n",
       "      <td>None</td>\n",
       "      <td>None</td>\n",
       "      <td>None</td>\n",
       "    </tr>\n",
       "    <tr>\n",
       "      <th>3</th>\n",
       "      <td>138</td>\n",
       "      <td>2018-01-23</td>\n",
       "      <td>А вот интересная история с поиском уязвимостей...</td>\n",
       "      <td>False</td>\n",
       "      <td>False</td>\n",
       "      <td>False</td>\n",
       "      <td>False</td>\n",
       "      <td>False</td>\n",
       "      <td>False</td>\n",
       "      <td>False</td>\n",
       "      <td>False</td>\n",
       "      <td>False</td>\n",
       "      <td>False</td>\n",
       "      <td>NaN</td>\n",
       "      <td>None</td>\n",
       "      <td>None</td>\n",
       "      <td>None</td>\n",
       "    </tr>\n",
       "    <tr>\n",
       "      <th>4</th>\n",
       "      <td>149</td>\n",
       "      <td>2018-01-29</td>\n",
       "      <td>Утечка информации о дипломах и сопутствующих и...</td>\n",
       "      <td>True</td>\n",
       "      <td>True</td>\n",
       "      <td>True</td>\n",
       "      <td>False</td>\n",
       "      <td>False</td>\n",
       "      <td>True</td>\n",
       "      <td>False</td>\n",
       "      <td>False</td>\n",
       "      <td>False</td>\n",
       "      <td>False</td>\n",
       "      <td>5120.0</td>\n",
       "      <td>14000000</td>\n",
       "      <td>None</td>\n",
       "      <td>None</td>\n",
       "    </tr>\n",
       "  </tbody>\n",
       "</table>\n",
       "</div>"
      ],
      "text/plain": [
       "   message_id message_date                                       message_text  \\\n",
       "0          66   2017-12-18  А вот вам свежайший случай из российской дейст...   \n",
       "1          91   2017-12-27  На форумах в Dark Web появилась в продаже база...   \n",
       "2         114   2018-01-11  Добрый вечер, коллеги.\\r\\n\\r\\nНаконец закончил...   \n",
       "3         138   2018-01-23  А вот интересная история с поиском уязвимостей...   \n",
       "4         149   2018-01-29  Утечка информации о дипломах и сопутствующих и...   \n",
       "\n",
       "   phone  email  password   name  bank_card  birthday  address     ip  amount  \\\n",
       "0  False  False     False  False      False     False    False  False   False   \n",
       "1   True   True     False   True      False     False     True  False   False   \n",
       "2  False  False     False  False      False     False    False  False   False   \n",
       "3  False  False     False  False      False     False    False  False   False   \n",
       "4   True   True      True  False      False      True    False  False   False   \n",
       "\n",
       "   location  dump_size   dump_len company_name website_name  \n",
       "0     False        NaN     36763          None         None  \n",
       "1     False        2.0       None         None         None  \n",
       "2     False        NaN       None         None         None  \n",
       "3     False        NaN       None         None         None  \n",
       "4     False     5120.0  14000000          None         None  "
      ]
     },
     "execution_count": 31,
     "metadata": {},
     "output_type": "execute_result"
    }
   ],
   "source": [
    "df_sorted.head()"
   ]
  },
  {
   "cell_type": "code",
   "execution_count": 32,
   "id": "fa2f2b12",
   "metadata": {},
   "outputs": [],
   "source": [
    "# вспомогательная функция для осталвения нужной части даты\n",
    "def normal_date(lst):\n",
    "    res = []\n",
    "    for i in lst:\n",
    "        i.replace()"
   ]
  },
  {
   "cell_type": "code",
   "execution_count": 33,
   "id": "ba72b696",
   "metadata": {},
   "outputs": [],
   "source": [
    "month_dict = {\n",
    "    r'([Яя]нв\\w*) ': '01.',\n",
    "    r'([Фф]евр\\w*) ': '02.',\n",
    "    r'([Мм]ар\\w*) ': '03.',\n",
    "    r'([Аа]пр\\w*) ': '04.',\n",
    "    r'([Мм]ай\\w*) ': '05.',\n",
    "    r'([Ии]юн\\w*) ': '06.',\n",
    "    r'([Ии]юл\\w*) ': '07.',\n",
    "    r'([Аа]вг\\w*) ': '08.',\n",
    "    r'([Сс]ен\\w*) ': '09.',\n",
    "    r'([Оо]кт\\w*) ': '10.',\n",
    "    r'([Нн]оя\\w*) ': '11.',\n",
    "    r'([Дд]ек\\w*) ': '12.'\n",
    "}"
   ]
  },
  {
   "cell_type": "code",
   "execution_count": 34,
   "id": "87a06c40",
   "metadata": {},
   "outputs": [],
   "source": [
    "df_sorted.replace(month_dict, regex=True, inplace=True)"
   ]
  },
  {
   "cell_type": "code",
   "execution_count": 35,
   "id": "b22fb408",
   "metadata": {},
   "outputs": [],
   "source": [
    "from datetime import datetime\n",
    "\n",
    "def extract_date(text):\n",
    "    date_pattern =  r'((\\d\\d\\.)20\\d\\d|\\d\\d\\.\\d\\d\\.20\\d\\d|20\\d\\d(?=г\\.))'\n",
    "    matches = re.findall(date_pattern, text, re.IGNORECASE)\n",
    "    if matches != []:\n",
    "        res = [item for tpl in matches for item in tpl if item]\n",
    "        normolized_dates = []\n",
    "        if res != []:\n",
    "            for i in res:\n",
    "                if re.fullmatch(r'20\\d{2}', i):\n",
    "                    i = datetime.strptime('01-01-'+i, '%d-%m-%Y')\n",
    "                    i = datetime.date(i)\n",
    "                    normolized_dates.append(i)\n",
    "                elif re.fullmatch(r'2017-12-18', i):\n",
    "                    i = datetime.strptime(i, '%Y-%m-%d')\n",
    "                    i = datetime.date(i)\n",
    "                    normolized_dates.append(i)\n",
    "                elif re.fullmatch(r'\\d{2}\\.20\\d{2}', i):\n",
    "                    i = datetime.strptime('01.'+i, '%d.%m.%Y')\n",
    "                    i = datetime.date(i)\n",
    "                elif re.fullmatch(r'\\d{2}\\.\\d{2}\\.20\\d{2}', i):\n",
    "                    i = datetime.strptime(i, '%d.%m.%Y')\n",
    "                    i = datetime.date(i)\n",
    "                    normolized_dates.append(i)\n",
    "                else:\n",
    "                    return None\n",
    "                \n",
    "        \n",
    "            return max(normolized_dates)\n",
    "    return None\n",
    "    \n",
    "    \n",
    "    \n",
    "df_sorted['date'] = df_sorted.message_text.apply(lambda x: extract_date(x) )\n",
    "df_sorted.date.fillna(df_sorted.message_date, inplace=True)"
   ]
  },
  {
   "cell_type": "code",
   "execution_count": 36,
   "id": "64e74259",
   "metadata": {},
   "outputs": [
    {
     "data": {
      "text/plain": [
       "2019-05-16    6\n",
       "2019-05-29    5\n",
       "2022-09-19    5\n",
       "2019-05-07    5\n",
       "2019-04-28    4\n",
       "             ..\n",
       "2020-01-07    1\n",
       "2020-01-04    1\n",
       "2019-12-29    1\n",
       "2019-12-23    1\n",
       "2022-01-02    1\n",
       "Name: date, Length: 441, dtype: int64"
      ]
     },
     "execution_count": 36,
     "metadata": {},
     "output_type": "execute_result"
    }
   ],
   "source": [
    "df_sorted['date'].value_counts()"
   ]
  },
  {
   "cell_type": "markdown",
   "id": "5f3eec5f",
   "metadata": {},
   "source": [
    "##### добавим канал утечки "
   ]
  },
  {
   "cell_type": "code",
   "execution_count": 37,
   "id": "f74d8547",
   "metadata": {},
   "outputs": [],
   "source": [
    "#подумать какие еще есть каналы утечки\n",
    "def extract_source(text):    \n",
    "    source_pattern = r'хак[а-я]*|взлом[а-я]*|парсинг[а-я]*|открытый [a-z\\-]* ?сервер'\n",
    "    matches = re.findall(source_pattern, text, re.IGNORECASE)\n",
    "    if matches != []:\n",
    "        res = [i for i in matches if i]\n",
    "        if res != []:\n",
    "     \n",
    "            return res[0]\n",
    "    return None\n",
    "\n",
    "\n",
    "df_sorted['leak_sources'] = df_sorted.message_text.apply(lambda x: extract_source(x))\n"
   ]
  },
  {
   "cell_type": "code",
   "execution_count": 38,
   "id": "5c31d9bc",
   "metadata": {},
   "outputs": [],
   "source": [
    "df_sorted['leak_sources'] = df_sorted['leak_sources'].replace({'[Хх]ак[а-я]*|взлом[а-я]*': 'хакерская атака', \n",
    "                                                               '[Оо]ткрытый [A-z\\-]* ?сервер': 'халатность'}, regex=True)"
   ]
  },
  {
   "cell_type": "markdown",
   "id": "9331fe02",
   "metadata": {},
   "source": [
    "##### добавим канал распространения"
   ]
  },
  {
   "cell_type": "code",
   "execution_count": 39,
   "id": "2711c30b",
   "metadata": {},
   "outputs": [],
   "source": [
    "#подумать какие еще есть каналы  распространения\n",
    "def extract_chanell(text):    \n",
    "    chanell_pattern = r'тенев[.]*|дарк[.]*|открытый доступ'\n",
    "    matches = re.findall(chanell_pattern, text, re.IGNORECASE)\n",
    "    if matches != []:\n",
    "        res = [i for i in matches if i]\n",
    "        if res != []:\n",
    "     \n",
    "            return res[0]\n",
    "    return None\n",
    "\n",
    "\n",
    "df_sorted['leak_chanell'] = df_sorted.message_text.apply(lambda x: extract_chanell(x))\n"
   ]
  },
  {
   "cell_type": "code",
   "execution_count": 40,
   "id": "32c18978",
   "metadata": {},
   "outputs": [],
   "source": [
    "df_sorted['leak_chanell'] = df_sorted['leak_chanell'].replace({'тенев[.]*|дарк[.]*': 'даркнет'}, regex=True)"
   ]
  },
  {
   "cell_type": "code",
   "execution_count": 41,
   "id": "780e2bd7",
   "metadata": {},
   "outputs": [
    {
     "data": {
      "text/plain": [
       "открытый доступ    103\n",
       "даркнет             50\n",
       "Name: leak_chanell, dtype: int64"
      ]
     },
     "execution_count": 41,
     "metadata": {},
     "output_type": "execute_result"
    }
   ],
   "source": [
    "#возможно стоит считать те, где не указано как открытый доступ\n",
    "df_sorted['leak_chanell'].value_counts()"
   ]
  },
  {
   "cell_type": "markdown",
   "id": "4998b992",
   "metadata": {},
   "source": [
    "##### добавим медицинские данные"
   ]
  },
  {
   "cell_type": "code",
   "execution_count": 42,
   "id": "cf1e86c3",
   "metadata": {},
   "outputs": [],
   "source": [
    "medicine_pattern = re.compile(r'здравоохр[а-я]*|диагноз[а-я]*|медицин[а-я]|covid')\n",
    "\n",
    "df_sorted['medicine_data'] = df_sorted.message_text\\\n",
    "            .apply(lambda x: True if re.search(medicine_pattern, x) else False)"
   ]
  },
  {
   "cell_type": "code",
   "execution_count": 43,
   "id": "a65da04b",
   "metadata": {},
   "outputs": [
    {
     "data": {
      "text/plain": [
       "False    513\n",
       "True      30\n",
       "Name: medicine_data, dtype: int64"
      ]
     },
     "execution_count": 43,
     "metadata": {},
     "output_type": "execute_result"
    }
   ],
   "source": [
    "df_sorted.medicine_data.value_counts()"
   ]
  },
  {
   "cell_type": "markdown",
   "id": "09d6dbfb",
   "metadata": {},
   "source": [
    "######  рисуем график"
   ]
  },
  {
   "cell_type": "code",
   "execution_count": 44,
   "id": "01235fae",
   "metadata": {},
   "outputs": [],
   "source": [
    "df_res = df_sorted[['message_id', 'message_date', 'date', 'name', 'phone', 'email', 'password', 'bank_card', 'birthday', 'address', 'amount', 'location', 'medicine_data'\n",
    "                   , 'ip', 'dump_size', 'dump_len', 'company_name', 'website_name',\n",
    " 'leak_sources', 'leak_chanell']]"
   ]
  },
  {
   "cell_type": "code",
   "execution_count": 45,
   "id": "c518c6bc",
   "metadata": {},
   "outputs": [
    {
     "data": {
      "text/html": [
       "<div>\n",
       "<style scoped>\n",
       "    .dataframe tbody tr th:only-of-type {\n",
       "        vertical-align: middle;\n",
       "    }\n",
       "\n",
       "    .dataframe tbody tr th {\n",
       "        vertical-align: top;\n",
       "    }\n",
       "\n",
       "    .dataframe thead th {\n",
       "        text-align: right;\n",
       "    }\n",
       "</style>\n",
       "<table border=\"1\" class=\"dataframe\">\n",
       "  <thead>\n",
       "    <tr style=\"text-align: right;\">\n",
       "      <th></th>\n",
       "      <th>message_id</th>\n",
       "      <th>message_date</th>\n",
       "      <th>date</th>\n",
       "      <th>name</th>\n",
       "      <th>phone</th>\n",
       "      <th>email</th>\n",
       "      <th>password</th>\n",
       "      <th>bank_card</th>\n",
       "      <th>birthday</th>\n",
       "      <th>address</th>\n",
       "      <th>amount</th>\n",
       "      <th>location</th>\n",
       "      <th>medicine_data</th>\n",
       "      <th>ip</th>\n",
       "      <th>dump_size</th>\n",
       "      <th>dump_len</th>\n",
       "      <th>company_name</th>\n",
       "      <th>website_name</th>\n",
       "      <th>leak_sources</th>\n",
       "      <th>leak_chanell</th>\n",
       "    </tr>\n",
       "  </thead>\n",
       "  <tbody>\n",
       "    <tr>\n",
       "      <th>0</th>\n",
       "      <td>66</td>\n",
       "      <td>2017-12-18</td>\n",
       "      <td>2017-12-18</td>\n",
       "      <td>False</td>\n",
       "      <td>False</td>\n",
       "      <td>False</td>\n",
       "      <td>False</td>\n",
       "      <td>False</td>\n",
       "      <td>False</td>\n",
       "      <td>False</td>\n",
       "      <td>False</td>\n",
       "      <td>False</td>\n",
       "      <td>False</td>\n",
       "      <td>False</td>\n",
       "      <td>NaN</td>\n",
       "      <td>36763</td>\n",
       "      <td>None</td>\n",
       "      <td>None</td>\n",
       "      <td>None</td>\n",
       "      <td>None</td>\n",
       "    </tr>\n",
       "    <tr>\n",
       "      <th>1</th>\n",
       "      <td>91</td>\n",
       "      <td>2017-12-27</td>\n",
       "      <td>2017-12-27</td>\n",
       "      <td>True</td>\n",
       "      <td>True</td>\n",
       "      <td>True</td>\n",
       "      <td>False</td>\n",
       "      <td>False</td>\n",
       "      <td>False</td>\n",
       "      <td>True</td>\n",
       "      <td>False</td>\n",
       "      <td>False</td>\n",
       "      <td>False</td>\n",
       "      <td>False</td>\n",
       "      <td>2.0</td>\n",
       "      <td>None</td>\n",
       "      <td>None</td>\n",
       "      <td>None</td>\n",
       "      <td>None</td>\n",
       "      <td>None</td>\n",
       "    </tr>\n",
       "    <tr>\n",
       "      <th>2</th>\n",
       "      <td>114</td>\n",
       "      <td>2018-01-11</td>\n",
       "      <td>2018-01-11</td>\n",
       "      <td>False</td>\n",
       "      <td>False</td>\n",
       "      <td>False</td>\n",
       "      <td>False</td>\n",
       "      <td>False</td>\n",
       "      <td>False</td>\n",
       "      <td>False</td>\n",
       "      <td>False</td>\n",
       "      <td>False</td>\n",
       "      <td>False</td>\n",
       "      <td>False</td>\n",
       "      <td>NaN</td>\n",
       "      <td>None</td>\n",
       "      <td>None</td>\n",
       "      <td>None</td>\n",
       "      <td>None</td>\n",
       "      <td>None</td>\n",
       "    </tr>\n",
       "    <tr>\n",
       "      <th>3</th>\n",
       "      <td>138</td>\n",
       "      <td>2018-01-23</td>\n",
       "      <td>2018-01-23</td>\n",
       "      <td>False</td>\n",
       "      <td>False</td>\n",
       "      <td>False</td>\n",
       "      <td>False</td>\n",
       "      <td>False</td>\n",
       "      <td>False</td>\n",
       "      <td>False</td>\n",
       "      <td>False</td>\n",
       "      <td>False</td>\n",
       "      <td>False</td>\n",
       "      <td>False</td>\n",
       "      <td>NaN</td>\n",
       "      <td>None</td>\n",
       "      <td>None</td>\n",
       "      <td>None</td>\n",
       "      <td>None</td>\n",
       "      <td>None</td>\n",
       "    </tr>\n",
       "    <tr>\n",
       "      <th>4</th>\n",
       "      <td>149</td>\n",
       "      <td>2018-01-29</td>\n",
       "      <td>2018-01-29</td>\n",
       "      <td>False</td>\n",
       "      <td>True</td>\n",
       "      <td>True</td>\n",
       "      <td>True</td>\n",
       "      <td>False</td>\n",
       "      <td>True</td>\n",
       "      <td>False</td>\n",
       "      <td>False</td>\n",
       "      <td>False</td>\n",
       "      <td>False</td>\n",
       "      <td>False</td>\n",
       "      <td>5120.0</td>\n",
       "      <td>14000000</td>\n",
       "      <td>None</td>\n",
       "      <td>None</td>\n",
       "      <td>None</td>\n",
       "      <td>None</td>\n",
       "    </tr>\n",
       "  </tbody>\n",
       "</table>\n",
       "</div>"
      ],
      "text/plain": [
       "   message_id message_date        date   name  phone  email  password  \\\n",
       "0          66   2017-12-18  2017-12-18  False  False  False     False   \n",
       "1          91   2017-12-27  2017-12-27   True   True   True     False   \n",
       "2         114   2018-01-11  2018-01-11  False  False  False     False   \n",
       "3         138   2018-01-23  2018-01-23  False  False  False     False   \n",
       "4         149   2018-01-29  2018-01-29  False   True   True      True   \n",
       "\n",
       "   bank_card  birthday  address  amount  location  medicine_data     ip  \\\n",
       "0      False     False    False   False     False          False  False   \n",
       "1      False     False     True   False     False          False  False   \n",
       "2      False     False    False   False     False          False  False   \n",
       "3      False     False    False   False     False          False  False   \n",
       "4      False      True    False   False     False          False  False   \n",
       "\n",
       "   dump_size   dump_len company_name website_name leak_sources leak_chanell  \n",
       "0        NaN     36763          None         None         None         None  \n",
       "1        2.0       None         None         None         None         None  \n",
       "2        NaN       None         None         None         None         None  \n",
       "3        NaN       None         None         None         None         None  \n",
       "4     5120.0  14000000          None         None         None         None  "
      ]
     },
     "execution_count": 45,
     "metadata": {},
     "output_type": "execute_result"
    }
   ],
   "source": [
    "df_res.head()"
   ]
  },
  {
   "cell_type": "code",
   "execution_count": 46,
   "id": "42323f36",
   "metadata": {},
   "outputs": [],
   "source": [
    "df_res.to_csv('dataleaks_with_med.csv', sep=';', encoding='utf-8')"
   ]
  },
  {
   "cell_type": "code",
   "execution_count": 120,
   "id": "2c29bef9",
   "metadata": {},
   "outputs": [],
   "source": [
    "tmp = ['name', 'phone', 'email', 'password', 'bank_card', 'birthday', 'address', 'amount', 'location', 'medicine_data']\n",
    "\n",
    "\n",
    "df_to_viz = df_sorted[['name', 'phone', 'email', 'password', 'bank_card', 'birthday', 'address', 'amount', 'location', 'medicine_data']]\n",
    "df_to_viz.columns = ['ФИО', \n",
    "                'Номер телефона',\n",
    "                'E-mail', \n",
    "                'Пароли', \n",
    "                 'Данные банковских карт', \n",
    "                 'Дата рождения', \n",
    "                 'Адрес', \n",
    "                 'Суммы на счете аккаунта', \n",
    "                 'Геолокация', \n",
    "                 'Медицинские данные']"
   ]
  },
  {
   "cell_type": "code",
   "execution_count": 121,
   "id": "9020911b",
   "metadata": {},
   "outputs": [],
   "source": [
    "df_to_viz = df_to_viz.sum()\n",
    "df_to_viz.sort_values(ascending=False, inplace=True)\n"
   ]
  },
  {
   "cell_type": "code",
   "execution_count": 104,
   "id": "577d37b4",
   "metadata": {},
   "outputs": [
    {
     "data": {
      "text/plain": [
       "543"
      ]
     },
     "execution_count": 104,
     "metadata": {},
     "output_type": "execute_result"
    }
   ],
   "source": [
    "len(df_sorted)"
   ]
  },
  {
   "cell_type": "code",
   "execution_count": 122,
   "id": "6661e757",
   "metadata": {},
   "outputs": [],
   "source": [
    "df_to_viz = df_to_viz.apply(lambda x: round(x*100 / len(df_sorted),2) )"
   ]
  },
  {
   "cell_type": "code",
   "execution_count": 124,
   "id": "69dc7f99",
   "metadata": {},
   "outputs": [
    {
     "data": {
      "image/png": "[encoded data removed]",
      "text/plain": [
       "<Figure size 864x576 with 1 Axes>"
      ]
     },
     "metadata": {
      "needs_background": "light"
     },
     "output_type": "display_data"
    }
   ],
   "source": [
    "import matplotlib.pyplot as plt\n",
    "plt.rcParams.update({'font.size': 16})\n",
    "plt.figure(figsize=(12, 8))\n",
    "\n",
    "plt.title(\"Данные, которые сливают чаще всего\")\n",
    "plt.bar(df_to_viz.index, df_to_viz, color='#FF7F50')\n",
    "plt.xticks(rotation=25, ha='right')\n",
    "\n",
    "plt.xlabel(\"Тип слитых данных\")\n",
    "plt.ylabel('Доля упоминаний, %')\n",
    "plt.show()\n",
    "\n"
   ]
  },
  {
   "cell_type": "code",
   "execution_count": 131,
   "id": "4d808006",
   "metadata": {},
   "outputs": [],
   "source": [
    "df_source = df_sorted['leak_sources']\n",
    "df_source.fillna('Нет информации', inplace=True)\n",
    "df_source.replace({'парсингом':'парсинг + компиляция'}, inplace=True)"
   ]
  },
  {
   "cell_type": "code",
   "execution_count": 132,
   "id": "ab67bdbf",
   "metadata": {},
   "outputs": [
    {
     "data": {
      "text/plain": [
       "0    Нет информации\n",
       "1    Нет информации\n",
       "2    Нет информации\n",
       "3    Нет информации\n",
       "4    Нет информации\n",
       "Name: leak_sources, dtype: object"
      ]
     },
     "execution_count": 132,
     "metadata": {},
     "output_type": "execute_result"
    }
   ],
   "source": [
    "df_source.head()"
   ]
  },
  {
   "cell_type": "code",
   "execution_count": 133,
   "id": "8a388dda",
   "metadata": {},
   "outputs": [
    {
     "data": {
      "text/plain": [
       "Нет информации          450\n",
       "хакерская атака          67\n",
       "халатность               23\n",
       "парсинг + компиляция      3\n",
       "Name: leak_sources, dtype: int64"
      ]
     },
     "execution_count": 133,
     "metadata": {},
     "output_type": "execute_result"
    }
   ],
   "source": [
    "df_source.value_counts()"
   ]
  },
  {
   "cell_type": "code",
   "execution_count": 153,
   "id": "277f50a2",
   "metadata": {},
   "outputs": [
    {
     "data": {
      "image/png": "[encoded data removed]",
      "text/plain": [
       "<Figure size 864x576 with 1 Axes>"
      ]
     },
     "metadata": {},
     "output_type": "display_data"
    }
   ],
   "source": [
    "import matplotlib.pyplot as plt\n",
    "plt.rcParams.update({'font.size': 14})\n",
    "plt.figure(figsize=(12, 8))\n",
    "\n",
    "plt.title(\"Данные, которые сливают чаще всего\")\n",
    "plt.pie(df_source.value_counts(), \n",
    "        labels = df_source.value_counts().index, \n",
    "        colors=['#d7d7d7', '#FED6BC', '#E7ECFF', '#B5F2EA'], \n",
    "       startangle = 320,\n",
    "       autopct='%1.1f%%')\n",
    "\n",
    "plt.xlabel(\"Источник слива\")\n",
    "plt.ylabel('Доля упоминаний, %')\n",
    "plt.show()\n",
    "\n"
   ]
  },
  {
   "cell_type": "code",
   "execution_count": 157,
   "id": "c258f1c2",
   "metadata": {},
   "outputs": [],
   "source": [
    "df_channel = df_sorted['leak_chanell']\n",
    "df_channel.fillna('Нет информации', inplace=True)\n"
   ]
  },
  {
   "cell_type": "code",
   "execution_count": 158,
   "id": "8506cfd0",
   "metadata": {},
   "outputs": [
    {
     "data": {
      "image/png": "[encoded data removed]",
      "text/plain": [
       "<Figure size 720x432 with 1 Axes>"
      ]
     },
     "metadata": {},
     "output_type": "display_data"
    }
   ],
   "source": [
    "import matplotlib.pyplot as plt\n",
    "plt.rcParams.update({'font.size': 10})\n",
    "plt.figure(figsize=(10, 6))\n",
    "\n",
    "plt.title(\"Данные, которые сливают чаще всего\")\n",
    "plt.pie(df_channel.value_counts(), \n",
    "        labels = df_channel.value_counts().index, \n",
    "        colors=['#d7d7d7', '#FED6BC', '#E7ECFF'], \n",
    "       startangle = 320,\n",
    "       autopct='%1.1f%%')\n",
    "\n",
    "plt.xlabel(\"Канал распространения\")\n",
    "plt.ylabel('Доля упоминаний, %')\n",
    "plt.show()\n",
    "\n"
   ]
  },
  {
   "cell_type": "code",
   "execution_count": 160,
   "id": "a9e3efe2",
   "metadata": {},
   "outputs": [],
   "source": [
    "df_final = df_sorted[['date', 'message_id']]\n",
    "df_final['date'].dt.to_period('M'"
   ]
  },
  {
   "cell_type": "code",
   "execution_count": 186,
   "id": "32d2b5bd",
   "metadata": {},
   "outputs": [
    {
     "ename": "IndexError",
     "evalue": "too many indices for array",
     "output_type": "error",
     "traceback": [
      "\u001b[1;31m---------------------------------------------------------------------------\u001b[0m",
      "\u001b[1;31mIndexError\u001b[0m                                Traceback (most recent call last)",
      "Input \u001b[1;32mIn [186]\u001b[0m, in \u001b[0;36m<cell line: 1>\u001b[1;34m()\u001b[0m\n\u001b[1;32m----> 1\u001b[0m df_final1 \u001b[38;5;241m=\u001b[39m \u001b[43mdf_final\u001b[49m\u001b[38;5;241;43m.\u001b[39;49m\u001b[43mgroupby\u001b[49m\u001b[43m(\u001b[49m\u001b[38;5;124;43m'\u001b[39;49m\u001b[38;5;124;43mdate\u001b[39;49m\u001b[38;5;124;43m'\u001b[39;49m\u001b[43m)\u001b[49m\u001b[38;5;241;43m.\u001b[39;49m\u001b[43magg\u001b[49m\u001b[43m(\u001b[49m\u001b[43m{\u001b[49m\u001b[38;5;124;43m'\u001b[39;49m\u001b[38;5;124;43mmessage_id\u001b[39;49m\u001b[38;5;124;43m'\u001b[39;49m\u001b[43m:\u001b[49m\u001b[38;5;124;43m'\u001b[39;49m\u001b[38;5;124;43mcount\u001b[39;49m\u001b[38;5;124;43m'\u001b[39;49m\u001b[43m}\u001b[49m\u001b[43m)\u001b[49m\u001b[38;5;241;43m.\u001b[39;49m\u001b[43mrename\u001b[49m\u001b[43m(\u001b[49m\u001b[43m{\u001b[49m\u001b[38;5;124;43m'\u001b[39;49m\u001b[38;5;124;43mmessage_id\u001b[39;49m\u001b[38;5;124;43m'\u001b[39;49m\u001b[43m:\u001b[49m\u001b[38;5;124;43m'\u001b[39;49m\u001b[38;5;124;43mколичество сливо\u001b[39;49m\u001b[38;5;124;43m'\u001b[39;49m\u001b[43m}\u001b[49m\u001b[43m)\u001b[49m\n",
      "File \u001b[1;32m~\\anaconda3\\lib\\site-packages\\pandas\\util\\_decorators.py:324\u001b[0m, in \u001b[0;36mrewrite_axis_style_signature.<locals>.decorate.<locals>.wrapper\u001b[1;34m(*args, **kwargs)\u001b[0m\n\u001b[0;32m    322\u001b[0m \u001b[38;5;129m@wraps\u001b[39m(func)\n\u001b[0;32m    323\u001b[0m \u001b[38;5;28;01mdef\u001b[39;00m \u001b[38;5;21mwrapper\u001b[39m(\u001b[38;5;241m*\u001b[39margs, \u001b[38;5;241m*\u001b[39m\u001b[38;5;241m*\u001b[39mkwargs) \u001b[38;5;241m-\u001b[39m\u001b[38;5;241m>\u001b[39m Callable[\u001b[38;5;241m.\u001b[39m\u001b[38;5;241m.\u001b[39m\u001b[38;5;241m.\u001b[39m, Any]:\n\u001b[1;32m--> 324\u001b[0m     \u001b[38;5;28;01mreturn\u001b[39;00m func(\u001b[38;5;241m*\u001b[39margs, \u001b[38;5;241m*\u001b[39m\u001b[38;5;241m*\u001b[39mkwargs)\n",
      "File \u001b[1;32m~\\anaconda3\\lib\\site-packages\\pandas\\core\\frame.py:5039\u001b[0m, in \u001b[0;36mDataFrame.rename\u001b[1;34m(self, mapper, index, columns, axis, copy, inplace, level, errors)\u001b[0m\n\u001b[0;32m   4916\u001b[0m \u001b[38;5;129m@rewrite_axis_style_signature\u001b[39m(\n\u001b[0;32m   4917\u001b[0m     \u001b[38;5;124m\"\u001b[39m\u001b[38;5;124mmapper\u001b[39m\u001b[38;5;124m\"\u001b[39m,\n\u001b[0;32m   4918\u001b[0m     [(\u001b[38;5;124m\"\u001b[39m\u001b[38;5;124mcopy\u001b[39m\u001b[38;5;124m\"\u001b[39m, \u001b[38;5;28;01mTrue\u001b[39;00m), (\u001b[38;5;124m\"\u001b[39m\u001b[38;5;124minplace\u001b[39m\u001b[38;5;124m\"\u001b[39m, \u001b[38;5;28;01mFalse\u001b[39;00m), (\u001b[38;5;124m\"\u001b[39m\u001b[38;5;124mlevel\u001b[39m\u001b[38;5;124m\"\u001b[39m, \u001b[38;5;28;01mNone\u001b[39;00m), (\u001b[38;5;124m\"\u001b[39m\u001b[38;5;124merrors\u001b[39m\u001b[38;5;124m\"\u001b[39m, \u001b[38;5;124m\"\u001b[39m\u001b[38;5;124mignore\u001b[39m\u001b[38;5;124m\"\u001b[39m)],\n\u001b[1;32m   (...)\u001b[0m\n\u001b[0;32m   4930\u001b[0m     errors: \u001b[38;5;28mstr\u001b[39m \u001b[38;5;241m=\u001b[39m \u001b[38;5;124m\"\u001b[39m\u001b[38;5;124mignore\u001b[39m\u001b[38;5;124m\"\u001b[39m,\n\u001b[0;32m   4931\u001b[0m ) \u001b[38;5;241m-\u001b[39m\u001b[38;5;241m>\u001b[39m DataFrame \u001b[38;5;241m|\u001b[39m \u001b[38;5;28;01mNone\u001b[39;00m:\n\u001b[0;32m   4932\u001b[0m     \u001b[38;5;124;03m\"\"\"\u001b[39;00m\n\u001b[0;32m   4933\u001b[0m \u001b[38;5;124;03m    Alter axes labels.\u001b[39;00m\n\u001b[0;32m   4934\u001b[0m \n\u001b[1;32m   (...)\u001b[0m\n\u001b[0;32m   5037\u001b[0m \u001b[38;5;124;03m    4  3  6\u001b[39;00m\n\u001b[0;32m   5038\u001b[0m \u001b[38;5;124;03m    \"\"\"\u001b[39;00m\n\u001b[1;32m-> 5039\u001b[0m     \u001b[38;5;28;01mreturn\u001b[39;00m \u001b[38;5;28;43msuper\u001b[39;49m\u001b[43m(\u001b[49m\u001b[43m)\u001b[49m\u001b[38;5;241;43m.\u001b[39;49m\u001b[43mrename\u001b[49m\u001b[43m(\u001b[49m\n\u001b[0;32m   5040\u001b[0m \u001b[43m        \u001b[49m\u001b[43mmapper\u001b[49m\u001b[38;5;241;43m=\u001b[39;49m\u001b[43mmapper\u001b[49m\u001b[43m,\u001b[49m\n\u001b[0;32m   5041\u001b[0m \u001b[43m        \u001b[49m\u001b[43mindex\u001b[49m\u001b[38;5;241;43m=\u001b[39;49m\u001b[43mindex\u001b[49m\u001b[43m,\u001b[49m\n\u001b[0;32m   5042\u001b[0m \u001b[43m        \u001b[49m\u001b[43mcolumns\u001b[49m\u001b[38;5;241;43m=\u001b[39;49m\u001b[43mcolumns\u001b[49m\u001b[43m,\u001b[49m\n\u001b[0;32m   5043\u001b[0m \u001b[43m        \u001b[49m\u001b[43maxis\u001b[49m\u001b[38;5;241;43m=\u001b[39;49m\u001b[43maxis\u001b[49m\u001b[43m,\u001b[49m\n\u001b[0;32m   5044\u001b[0m \u001b[43m        \u001b[49m\u001b[43mcopy\u001b[49m\u001b[38;5;241;43m=\u001b[39;49m\u001b[43mcopy\u001b[49m\u001b[43m,\u001b[49m\n\u001b[0;32m   5045\u001b[0m \u001b[43m        \u001b[49m\u001b[43minplace\u001b[49m\u001b[38;5;241;43m=\u001b[39;49m\u001b[43minplace\u001b[49m\u001b[43m,\u001b[49m\n\u001b[0;32m   5046\u001b[0m \u001b[43m        \u001b[49m\u001b[43mlevel\u001b[49m\u001b[38;5;241;43m=\u001b[39;49m\u001b[43mlevel\u001b[49m\u001b[43m,\u001b[49m\n\u001b[0;32m   5047\u001b[0m \u001b[43m        \u001b[49m\u001b[43merrors\u001b[49m\u001b[38;5;241;43m=\u001b[39;49m\u001b[43merrors\u001b[49m\u001b[43m,\u001b[49m\n\u001b[0;32m   5048\u001b[0m \u001b[43m    \u001b[49m\u001b[43m)\u001b[49m\n",
      "File \u001b[1;32m~\\anaconda3\\lib\\site-packages\\pandas\\core\\generic.py:1147\u001b[0m, in \u001b[0;36mNDFrame.rename\u001b[1;34m(self, mapper, index, columns, axis, copy, inplace, level, errors)\u001b[0m\n\u001b[0;32m   1145\u001b[0m \u001b[38;5;66;03m# GH 13473\u001b[39;00m\n\u001b[0;32m   1146\u001b[0m \u001b[38;5;28;01mif\u001b[39;00m \u001b[38;5;129;01mnot\u001b[39;00m callable(replacements):\n\u001b[1;32m-> 1147\u001b[0m     indexer \u001b[38;5;241m=\u001b[39m \u001b[43max\u001b[49m\u001b[38;5;241;43m.\u001b[39;49m\u001b[43mget_indexer_for\u001b[49m\u001b[43m(\u001b[49m\u001b[43mreplacements\u001b[49m\u001b[43m)\u001b[49m\n\u001b[0;32m   1148\u001b[0m     \u001b[38;5;28;01mif\u001b[39;00m errors \u001b[38;5;241m==\u001b[39m \u001b[38;5;124m\"\u001b[39m\u001b[38;5;124mraise\u001b[39m\u001b[38;5;124m\"\u001b[39m \u001b[38;5;129;01mand\u001b[39;00m \u001b[38;5;28mlen\u001b[39m(indexer[indexer \u001b[38;5;241m==\u001b[39m \u001b[38;5;241m-\u001b[39m\u001b[38;5;241m1\u001b[39m]):\n\u001b[0;32m   1149\u001b[0m         missing_labels \u001b[38;5;241m=\u001b[39m [\n\u001b[0;32m   1150\u001b[0m             label\n\u001b[0;32m   1151\u001b[0m             \u001b[38;5;28;01mfor\u001b[39;00m index, label \u001b[38;5;129;01min\u001b[39;00m \u001b[38;5;28menumerate\u001b[39m(replacements)\n\u001b[0;32m   1152\u001b[0m             \u001b[38;5;28;01mif\u001b[39;00m indexer[index] \u001b[38;5;241m==\u001b[39m \u001b[38;5;241m-\u001b[39m\u001b[38;5;241m1\u001b[39m\n\u001b[0;32m   1153\u001b[0m         ]\n",
      "File \u001b[1;32m~\\anaconda3\\lib\\site-packages\\pandas\\core\\indexes\\base.py:5275\u001b[0m, in \u001b[0;36mIndex.get_indexer_for\u001b[1;34m(self, target, **kwargs)\u001b[0m\n\u001b[0;32m   5263\u001b[0m \u001b[38;5;124;03m\"\"\"\u001b[39;00m\n\u001b[0;32m   5264\u001b[0m \u001b[38;5;124;03mGuaranteed return of an indexer even when non-unique.\u001b[39;00m\n\u001b[0;32m   5265\u001b[0m \n\u001b[1;32m   (...)\u001b[0m\n\u001b[0;32m   5272\u001b[0m \u001b[38;5;124;03m    List of indices.\u001b[39;00m\n\u001b[0;32m   5273\u001b[0m \u001b[38;5;124;03m\"\"\"\u001b[39;00m\n\u001b[0;32m   5274\u001b[0m \u001b[38;5;28;01mif\u001b[39;00m \u001b[38;5;28mself\u001b[39m\u001b[38;5;241m.\u001b[39m_index_as_unique:\n\u001b[1;32m-> 5275\u001b[0m     \u001b[38;5;28;01mreturn\u001b[39;00m \u001b[38;5;28mself\u001b[39m\u001b[38;5;241m.\u001b[39mget_indexer(target, \u001b[38;5;241m*\u001b[39m\u001b[38;5;241m*\u001b[39mkwargs)\n\u001b[0;32m   5276\u001b[0m indexer, _ \u001b[38;5;241m=\u001b[39m \u001b[38;5;28mself\u001b[39m\u001b[38;5;241m.\u001b[39mget_indexer_non_unique(target)\n\u001b[0;32m   5277\u001b[0m \u001b[38;5;28;01mreturn\u001b[39;00m indexer\n",
      "File \u001b[1;32m~\\anaconda3\\lib\\site-packages\\pandas\\core\\indexes\\base.py:3437\u001b[0m, in \u001b[0;36mIndex.get_indexer\u001b[1;34m(self, target, method, limit, tolerance)\u001b[0m\n\u001b[0;32m   3426\u001b[0m \u001b[38;5;129m@Appender\u001b[39m(_index_shared_docs[\u001b[38;5;124m\"\u001b[39m\u001b[38;5;124mget_indexer\u001b[39m\u001b[38;5;124m\"\u001b[39m] \u001b[38;5;241m%\u001b[39m _index_doc_kwargs)\n\u001b[0;32m   3427\u001b[0m \u001b[38;5;129m@final\u001b[39m\n\u001b[0;32m   3428\u001b[0m \u001b[38;5;28;01mdef\u001b[39;00m \u001b[38;5;21mget_indexer\u001b[39m(\n\u001b[1;32m   (...)\u001b[0m\n\u001b[0;32m   3434\u001b[0m ) \u001b[38;5;241m-\u001b[39m\u001b[38;5;241m>\u001b[39m np\u001b[38;5;241m.\u001b[39mndarray:\n\u001b[0;32m   3435\u001b[0m     \u001b[38;5;66;03m# returned ndarray is np.intp\u001b[39;00m\n\u001b[0;32m   3436\u001b[0m     method \u001b[38;5;241m=\u001b[39m missing\u001b[38;5;241m.\u001b[39mclean_reindex_fill_method(method)\n\u001b[1;32m-> 3437\u001b[0m     target \u001b[38;5;241m=\u001b[39m \u001b[38;5;28;43mself\u001b[39;49m\u001b[38;5;241;43m.\u001b[39;49m\u001b[43m_maybe_cast_listlike_indexer\u001b[49m\u001b[43m(\u001b[49m\u001b[43mtarget\u001b[49m\u001b[43m)\u001b[49m\n\u001b[0;32m   3439\u001b[0m     \u001b[38;5;28mself\u001b[39m\u001b[38;5;241m.\u001b[39m_check_indexing_method(method, limit, tolerance)\n\u001b[0;32m   3441\u001b[0m     \u001b[38;5;28;01mif\u001b[39;00m \u001b[38;5;129;01mnot\u001b[39;00m \u001b[38;5;28mself\u001b[39m\u001b[38;5;241m.\u001b[39m_index_as_unique:\n",
      "File \u001b[1;32m~\\anaconda3\\lib\\site-packages\\pandas\\core\\indexes\\datetimelike.py:601\u001b[0m, in \u001b[0;36mDatetimeIndexOpsMixin._maybe_cast_listlike_indexer\u001b[1;34m(self, keyarr)\u001b[0m\n\u001b[0;32m    598\u001b[0m \u001b[38;5;129m@doc\u001b[39m(Index\u001b[38;5;241m.\u001b[39m_maybe_cast_listlike_indexer)\n\u001b[0;32m    599\u001b[0m \u001b[38;5;28;01mdef\u001b[39;00m \u001b[38;5;21m_maybe_cast_listlike_indexer\u001b[39m(\u001b[38;5;28mself\u001b[39m, keyarr):\n\u001b[0;32m    600\u001b[0m     \u001b[38;5;28;01mtry\u001b[39;00m:\n\u001b[1;32m--> 601\u001b[0m         res \u001b[38;5;241m=\u001b[39m \u001b[38;5;28;43mself\u001b[39;49m\u001b[38;5;241;43m.\u001b[39;49m\u001b[43m_data\u001b[49m\u001b[38;5;241;43m.\u001b[39;49m\u001b[43m_validate_listlike\u001b[49m\u001b[43m(\u001b[49m\u001b[43mkeyarr\u001b[49m\u001b[43m,\u001b[49m\u001b[43m \u001b[49m\u001b[43mallow_object\u001b[49m\u001b[38;5;241;43m=\u001b[39;49m\u001b[38;5;28;43;01mTrue\u001b[39;49;00m\u001b[43m)\u001b[49m\n\u001b[0;32m    602\u001b[0m     \u001b[38;5;28;01mexcept\u001b[39;00m (\u001b[38;5;167;01mValueError\u001b[39;00m, \u001b[38;5;167;01mTypeError\u001b[39;00m):\n\u001b[0;32m    603\u001b[0m         res \u001b[38;5;241m=\u001b[39m com\u001b[38;5;241m.\u001b[39masarray_tuplesafe(keyarr)\n",
      "File \u001b[1;32m~\\anaconda3\\lib\\site-packages\\pandas\\core\\arrays\\datetimelike.py:703\u001b[0m, in \u001b[0;36mDatetimeLikeArrayMixin._validate_listlike\u001b[1;34m(self, value, allow_object)\u001b[0m\n\u001b[0;32m    699\u001b[0m             \u001b[38;5;28;01mraise\u001b[39;00m \u001b[38;5;167;01mTypeError\u001b[39;00m(msg)\n\u001b[0;32m    701\u001b[0m \u001b[38;5;66;03m# Do type inference if necessary up front\u001b[39;00m\n\u001b[0;32m    702\u001b[0m \u001b[38;5;66;03m# e.g. we passed PeriodIndex.values and got an ndarray of Periods\u001b[39;00m\n\u001b[1;32m--> 703\u001b[0m value \u001b[38;5;241m=\u001b[39m \u001b[43mpd_array\u001b[49m\u001b[43m(\u001b[49m\u001b[43mvalue\u001b[49m\u001b[43m)\u001b[49m\n\u001b[0;32m    704\u001b[0m value \u001b[38;5;241m=\u001b[39m extract_array(value, extract_numpy\u001b[38;5;241m=\u001b[39m\u001b[38;5;28;01mTrue\u001b[39;00m)\n\u001b[0;32m    706\u001b[0m \u001b[38;5;28;01mif\u001b[39;00m is_dtype_equal(value\u001b[38;5;241m.\u001b[39mdtype, \u001b[38;5;124m\"\u001b[39m\u001b[38;5;124mstring\u001b[39m\u001b[38;5;124m\"\u001b[39m):\n\u001b[0;32m    707\u001b[0m     \u001b[38;5;66;03m# We got a StringArray\u001b[39;00m\n",
      "File \u001b[1;32m~\\anaconda3\\lib\\site-packages\\pandas\\core\\construction.py:346\u001b[0m, in \u001b[0;36marray\u001b[1;34m(data, dtype, copy)\u001b[0m\n\u001b[0;32m    342\u001b[0m     \u001b[38;5;28;01mreturn\u001b[39;00m TimedeltaArray\u001b[38;5;241m.\u001b[39m_from_sequence(data, copy\u001b[38;5;241m=\u001b[39mcopy)\n\u001b[0;32m    344\u001b[0m \u001b[38;5;28;01melif\u001b[39;00m inferred_dtype \u001b[38;5;241m==\u001b[39m \u001b[38;5;124m\"\u001b[39m\u001b[38;5;124mstring\u001b[39m\u001b[38;5;124m\"\u001b[39m:\n\u001b[0;32m    345\u001b[0m     \u001b[38;5;66;03m# StringArray/ArrowStringArray depending on pd.options.mode.string_storage\u001b[39;00m\n\u001b[1;32m--> 346\u001b[0m     \u001b[38;5;28;01mreturn\u001b[39;00m \u001b[43mStringDtype\u001b[49m\u001b[43m(\u001b[49m\u001b[43m)\u001b[49m\u001b[38;5;241;43m.\u001b[39;49m\u001b[43mconstruct_array_type\u001b[49m\u001b[43m(\u001b[49m\u001b[43m)\u001b[49m\u001b[38;5;241;43m.\u001b[39;49m\u001b[43m_from_sequence\u001b[49m\u001b[43m(\u001b[49m\u001b[43mdata\u001b[49m\u001b[43m,\u001b[49m\u001b[43m \u001b[49m\u001b[43mcopy\u001b[49m\u001b[38;5;241;43m=\u001b[39;49m\u001b[43mcopy\u001b[49m\u001b[43m)\u001b[49m\n\u001b[0;32m    348\u001b[0m \u001b[38;5;28;01melif\u001b[39;00m inferred_dtype \u001b[38;5;241m==\u001b[39m \u001b[38;5;124m\"\u001b[39m\u001b[38;5;124minteger\u001b[39m\u001b[38;5;124m\"\u001b[39m:\n\u001b[0;32m    349\u001b[0m     \u001b[38;5;28;01mreturn\u001b[39;00m IntegerArray\u001b[38;5;241m.\u001b[39m_from_sequence(data, copy\u001b[38;5;241m=\u001b[39mcopy)\n",
      "File \u001b[1;32m~\\anaconda3\\lib\\site-packages\\pandas\\core\\arrays\\string_.py:347\u001b[0m, in \u001b[0;36mStringArray._from_sequence\u001b[1;34m(cls, scalars, dtype, copy)\u001b[0m\n\u001b[0;32m    343\u001b[0m     result[na_values] \u001b[38;5;241m=\u001b[39m StringDtype\u001b[38;5;241m.\u001b[39mna_value\n\u001b[0;32m    345\u001b[0m \u001b[38;5;28;01melse\u001b[39;00m:\n\u001b[0;32m    346\u001b[0m     \u001b[38;5;66;03m# convert non-na-likes to str, and nan-likes to StringDtype.na_value\u001b[39;00m\n\u001b[1;32m--> 347\u001b[0m     result \u001b[38;5;241m=\u001b[39m \u001b[43mlib\u001b[49m\u001b[38;5;241;43m.\u001b[39;49m\u001b[43mensure_string_array\u001b[49m\u001b[43m(\u001b[49m\n\u001b[0;32m    348\u001b[0m \u001b[43m        \u001b[49m\u001b[43mscalars\u001b[49m\u001b[43m,\u001b[49m\u001b[43m \u001b[49m\u001b[43mna_value\u001b[49m\u001b[38;5;241;43m=\u001b[39;49m\u001b[43mStringDtype\u001b[49m\u001b[38;5;241;43m.\u001b[39;49m\u001b[43mna_value\u001b[49m\u001b[43m,\u001b[49m\u001b[43m \u001b[49m\u001b[43mcopy\u001b[49m\u001b[38;5;241;43m=\u001b[39;49m\u001b[43mcopy\u001b[49m\n\u001b[0;32m    349\u001b[0m \u001b[43m    \u001b[49m\u001b[43m)\u001b[49m\n\u001b[0;32m    351\u001b[0m \u001b[38;5;66;03m# Manually creating new array avoids the validation step in the __init__, so is\u001b[39;00m\n\u001b[0;32m    352\u001b[0m \u001b[38;5;66;03m# faster. Refactor need for validation?\u001b[39;00m\n\u001b[0;32m    353\u001b[0m new_string_array \u001b[38;5;241m=\u001b[39m \u001b[38;5;28mcls\u001b[39m\u001b[38;5;241m.\u001b[39m\u001b[38;5;21m__new__\u001b[39m(\u001b[38;5;28mcls\u001b[39m)\n",
      "File \u001b[1;32m~\\anaconda3\\lib\\site-packages\\pandas\\_libs\\lib.pyx:686\u001b[0m, in \u001b[0;36mpandas._libs.lib.ensure_string_array\u001b[1;34m()\u001b[0m\n",
      "File \u001b[1;32m~\\anaconda3\\lib\\site-packages\\pandas\\_libs\\lib.pyx:737\u001b[0m, in \u001b[0;36mpandas._libs.lib.ensure_string_array\u001b[1;34m()\u001b[0m\n",
      "\u001b[1;31mIndexError\u001b[0m: too many indices for array"
     ]
    }
   ],
   "source": [
    "df_final1 = df_final.groupby('date').agg({'message_id':'count'})\n"
   ]
  },
  {
   "cell_type": "code",
   "execution_count": 188,
   "id": "893e1a66",
   "metadata": {},
   "outputs": [],
   "source": [
    "df_final1.columns = ['количество сливов']"
   ]
  },
  {
   "cell_type": "code",
   "execution_count": 196,
   "id": "b988aca1",
   "metadata": {},
   "outputs": [
    {
     "data": {
      "image/png": "[encoded data removed]",
      "text/plain": [
       "<Figure size 720x360 with 1 Axes>"
      ]
     },
     "metadata": {
      "needs_background": "light"
     },
     "output_type": "display_data"
    }
   ],
   "source": [
    "import matplotlib.pyplot as plt\n",
    "\n",
    "df_final1.plot(kind='line', y='количество сливов', figsize=(10, 5), grid=True, color='purple', legend=False)\n",
    "\n",
    "plt.xlabel('Дата')\n",
    "\n",
    "plt.ylabel('Количество')\n",
    "plt.title('Динамика количества сливов')\n",
    "plt.show()\n"
   ]
  },
  {
   "cell_type": "markdown",
   "id": "1d528a02",
   "metadata": {},
   "source": [
    "#### сохраняем в нужном формате"
   ]
  },
  {
   "cell_type": "code",
   "execution_count": 102,
   "id": "45311cf3",
   "metadata": {},
   "outputs": [],
   "source": [
    "df_sorted.to_csv('dataleak_day_2_update.csv', sep=';', encoding='utf-8')"
   ]
  },
  {
   "cell_type": "code",
   "execution_count": null,
   "id": "6c4d4816",
   "metadata": {},
   "outputs": [],
   "source": [
    "df_sorted.to_excel('dataleak_new_table.xlsx')"
   ]
  },
  {
   "cell_type": "code",
   "execution_count": null,
   "id": "a23a8bc2",
   "metadata": {},
   "outputs": [],
   "source": [
    "int('10000')"
   ]
  },
  {
   "cell_type": "code",
   "execution_count": null,
   "id": "2fc33618",
   "metadata": {},
   "outputs": [],
   "source": []
  }
 ],
 "metadata": {
  "kernelspec": {
   "display_name": "Python 3 (ipykernel)",
   "language": "python",
   "name": "python3"
  },
  "language_info": {
   "codemirror_mode": {
    "name": "ipython",
    "version": 3
   },
   "file_extension": ".py",
   "mimetype": "text/x-python",
   "name": "python",
   "nbconvert_exporter": "python",
   "pygments_lexer": "ipython3",
   "version": "3.9.12"
  },
  "varInspector": {
   "cols": {
    "lenName": 16,
    "lenType": 16,
    "lenVar": 40
   },
   "kernels_config": {
    "python": {
     "delete_cmd_postfix": "",
     "delete_cmd_prefix": "del ",
     "library": "var_list.py",
     "varRefreshCmd": "print(var_dic_list())"
    },
    "r": {
     "delete_cmd_postfix": ") ",
     "delete_cmd_prefix": "rm(",
     "library": "var_list.r",
     "varRefreshCmd": "cat(var_dic_list()) "
    }
   },
   "types_to_exclude": [
    "module",
    "function",
    "builtin_function_or_method",
    "instance",
    "_Feature"
   ],
   "window_display": false
  }
 },
 "nbformat": 4,
 "nbformat_minor": 5
}
